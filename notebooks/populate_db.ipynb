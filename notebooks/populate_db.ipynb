{
 "cells": [
  {
   "cell_type": "markdown",
   "id": "67d88be4-98c7-4484-9fd3-bd91bde17446",
   "metadata": {},
   "source": [
    " # Populate database"
   ]
  },
  {
   "cell_type": "markdown",
   "id": "fe3b9abc-21b8-47a8-b3d1-01849585b24d",
   "metadata": {},
   "source": [
    "Example notebook to illustrace how to populate the database using SQLModel with a postgres data."
   ]
  },
  {
   "cell_type": "markdown",
   "id": "1b989629-658c-42f2-ba8b-2213268c1ab9",
   "metadata": {},
   "source": [
    "## Packages and options"
   ]
  },
  {
   "cell_type": "code",
   "execution_count": 1,
   "id": "777c4959-209f-4e5b-826d-15135691e538",
   "metadata": {},
   "outputs": [],
   "source": [
    "from sqlmodel import SQLModel, Field, create_engine, Session, delete, select\n",
    "import pandas as pd\n",
    "import os"
   ]
  },
  {
   "cell_type": "markdown",
   "id": "0acefa43-226d-4e73-80c2-d612abcccb49",
   "metadata": {},
   "source": [
    "## Establish the database connection"
   ]
  },
  {
   "cell_type": "code",
   "execution_count": 2,
   "id": "10e2d5db-fedf-4a73-884d-de3ddc3b2926",
   "metadata": {},
   "outputs": [],
   "source": [
    "user = os.getenv(\"POSTGRES_USER\")\n",
    "password = os.getenv(\"POSTGRES_PASSWORD\")\n",
    "host = os.getenv(\"POSTGRES_HOST\")\n",
    "db = os.getenv(\"POSTGRES_DB\")\n",
    "uri = f\"postgresql://{user}:{password}@{host}/{db}\"\n",
    "engine = create_engine(uri)"
   ]
  },
  {
   "cell_type": "markdown",
   "id": "2b476157-63a5-4406-8244-a7ea9ebbbf4c",
   "metadata": {},
   "source": [
    "## Simple model"
   ]
  },
  {
   "cell_type": "markdown",
   "id": "f89fd928-9386-4330-9362-30414c1123f7",
   "metadata": {},
   "source": [
    "Have a look at the data:"
   ]
  },
  {
   "cell_type": "code",
   "execution_count": 3,
   "id": "fca49486-fb95-4dc6-81ad-298c31c885a7",
   "metadata": {},
   "outputs": [
    {
     "name": "stdout",
     "output_type": "stream",
     "text": [
      "<class 'pandas.core.frame.DataFrame'>\n",
      "RangeIndex: 8540 entries, 0 to 8539\n",
      "Data columns (total 6 columns):\n",
      " #   Column    Non-Null Count  Dtype  \n",
      "---  ------    --------------  -----  \n",
      " 0   sector    8540 non-null   object \n",
      " 1   year      8540 non-null   int64  \n",
      " 2   value     8540 non-null   float64\n",
      " 3   scenario  8540 non-null   object \n",
      " 4   variant   8540 non-null   object \n",
      " 5   unit      8540 non-null   object \n",
      "dtypes: float64(1), int64(1), object(4)\n",
      "memory usage: 400.4+ KB\n"
     ]
    }
   ],
   "source": [
    "fn = \"../data/extracted/transformation/01-01-electricity_consumption.csv\"\n",
    "df = pd.read_csv(fn)\n",
    "df.info()"
   ]
  },
  {
   "cell_type": "markdown",
   "id": "7b44bc89-c80d-4e66-8702-2796f62d6af3",
   "metadata": {},
   "source": [
    "For the first shot, do not think about normalization but just create a model with the corresponding table in the database:"
   ]
  },
  {
   "cell_type": "code",
   "execution_count": 4,
   "id": "4f50d467-b360-4ba4-a326-aaf821082e20",
   "metadata": {},
   "outputs": [],
   "source": [
    "class ElectricityConsumption(SQLModel, table=True):\n",
    "    id: int = Field(primary_key=True)\n",
    "    scenario: str\n",
    "    variant: str\n",
    "    sector: str\n",
    "    year: int\n",
    "    value: float\n",
    "    unit: str"
   ]
  },
  {
   "cell_type": "markdown",
   "id": "a289d997-64f3-49fd-99e2-9d4371f8fec0",
   "metadata": {},
   "source": [
    "Create the table (if it does not exist already)"
   ]
  },
  {
   "cell_type": "code",
   "execution_count": 5,
   "id": "c110228b-ef4d-4dd0-a7e6-ad7c8abf3337",
   "metadata": {},
   "outputs": [],
   "source": [
    "SQLModel.metadata.create_all(engine)"
   ]
  },
  {
   "cell_type": "markdown",
   "id": "9e50628a-6f37-422b-9a67-e6d09144d55b",
   "metadata": {},
   "source": [
    "Add the data to the database. To avoid duplicates by running the cell twice, we delete the data before injecting them:"
   ]
  },
  {
   "cell_type": "code",
   "execution_count": 6,
   "id": "94a1c922-cef0-4a25-ba5c-691d5e10b06f",
   "metadata": {},
   "outputs": [],
   "source": [
    "with Session(engine) as session:\n",
    "    # delete the data\n",
    "    session.exec(delete(ElectricityConsumption))\n",
    "    records = df.to_dict(orient=\"records\")\n",
    "    session.add_all([\n",
    "        ElectricityConsumption(**r) for r in records\n",
    "    ])\n",
    "    session.commit()"
   ]
  },
  {
   "cell_type": "markdown",
   "id": "4f9bea83-a66e-487b-bfcd-293a4ad29472",
   "metadata": {},
   "source": [
    "Get the data again. We get back a list of ElectricityConsumption instances (in fact pytantic model instances) that we convert to a dataframe:"
   ]
  },
  {
   "cell_type": "code",
   "execution_count": 7,
   "id": "43c5ad92-decd-42c3-b36f-7dfa58b33610",
   "metadata": {},
   "outputs": [
    {
     "name": "stdout",
     "output_type": "stream",
     "text": [
      "<class 'pandas.core.frame.DataFrame'>\n",
      "RangeIndex: 8540 entries, 0 to 8539\n",
      "Data columns (total 7 columns):\n",
      " #   Column    Non-Null Count  Dtype  \n",
      "---  ------    --------------  -----  \n",
      " 0   scenario  8540 non-null   object \n",
      " 1   variant   8540 non-null   object \n",
      " 2   year      8540 non-null   int64  \n",
      " 3   unit      8540 non-null   object \n",
      " 4   sector    8540 non-null   object \n",
      " 5   id        8540 non-null   int64  \n",
      " 6   value     8540 non-null   float64\n",
      "dtypes: float64(1), int64(2), object(4)\n",
      "memory usage: 467.2+ KB\n"
     ]
    }
   ],
   "source": [
    "with Session(engine) as session:\n",
    "    res = session.exec(select(ElectricityConsumption)).all()\n",
    "df_out = pd.DataFrame([r.model_dump() for r in res])\n",
    "df_out.info()"
   ]
  },
  {
   "cell_type": "markdown",
   "id": "c184c24c-c139-43e0-a894-faa72f9d58d5",
   "metadata": {},
   "source": [
    "## More structured"
   ]
  },
  {
   "cell_type": "markdown",
   "id": "f290f7d3-3447-4662-88fe-fba22654d2ac",
   "metadata": {},
   "source": [
    "The model above is simple but might not be able to discover that different tables have different thinks in common. For this it might be useful to build relations between the data. One appraohc could be to introduce a relation data model by extracting the different diemnsions of the model. In the case of the consumption data, we might extract the sector as well as the scenario-variant combinations into own tables that will be referenced by several variables."
   ]
  },
  {
   "cell_type": "code",
   "execution_count": 8,
   "id": "7b0b8432-cfd3-4606-8c7e-e0fa1808c3dc",
   "metadata": {},
   "outputs": [],
   "source": [
    "class Scenario(SQLModel, table=True):\n",
    "    id: int = Field(primary_key=True)\n",
    "    scenario: str\n",
    "    variant: str\n",
    "\n",
    "class Sector(SQLModel, table=True):\n",
    "    id: int = Field(primary_key=True)\n",
    "    sector: str\n",
    "\n",
    "class ElecConsumption(SQLModel, table=True):\n",
    "    id: int = Field(primary_key=True)\n",
    "    scenario_id: int = Field(default=None, foreign_key=\"scenario.id\")\n",
    "    sector_id: int = Field(default=None, foreign_key=\"sector.id\")\n",
    "    year: int\n",
    "    value: float\n",
    "    unit: str"
   ]
  },
  {
   "cell_type": "markdown",
   "id": "cba7904d-9e7a-4d7f-8d53-d69186ed2d9a",
   "metadata": {},
   "source": [
    "Create the tables (if not exist):"
   ]
  },
  {
   "cell_type": "code",
   "execution_count": 9,
   "id": "c8d582b5-f4ae-4584-b596-75a3d45ffb50",
   "metadata": {},
   "outputs": [],
   "source": [
    "SQLModel.metadata.create_all(engine)"
   ]
  },
  {
   "cell_type": "markdown",
   "id": "923a9af3-6bf9-4ba6-ab40-faef475cc092",
   "metadata": {},
   "source": [
    "As we now introduced references, we need to create the reference data first and also need to use the identifiers in our consumptions data:"
   ]
  },
  {
   "cell_type": "code",
   "execution_count": 10,
   "id": "b07a0c7d-b522-4c0c-830f-c054d852fb5b",
   "metadata": {},
   "outputs": [],
   "source": [
    "df_sector = df[[\"sector\"]].drop_duplicates()\n",
    "df_scenario = df[[\"scenario\", \"variant\"]].drop_duplicates()"
   ]
  },
  {
   "cell_type": "code",
   "execution_count": 11,
   "id": "679a00dc-a812-4179-bda4-2669b621701f",
   "metadata": {},
   "outputs": [],
   "source": [
    "with Session(engine) as session:\n",
    "    # delete the data to avoid duplicates if cell is run twice\n",
    "    # note that we need to first delete the table that uses the references...\n",
    "    session.exec(delete(ElecConsumption))\n",
    "    session.exec(delete(Scenario))\n",
    "    session.exec(delete(Sector))\n",
    "    # add the records\n",
    "    session.add_all([Sector(**r) for r in df_sector.to_dict(orient=\"records\")])\n",
    "    session.add_all([Scenario(**r) for r in df_scenario.to_dict(orient=\"records\")])\n",
    "    session.commit()\n",
    "    # get the data again to create mappings to insert the id into the consumption data\n",
    "    df_sector_db = (\n",
    "        pd.DataFrame([r.model_dump() for r in session.exec(select(Sector)).all()])\n",
    "        .rename(columns={\"id\": \"sector_id\"})\n",
    "    )\n",
    "    df_scenario_db = (\n",
    "        pd.DataFrame([r.model_dump() for r in session.exec(select(Scenario)).all()])\n",
    "        .rename(columns={\"id\": \"scenario_id\"})\n",
    "    )    "
   ]
  },
  {
   "cell_type": "markdown",
   "id": "410dbc67-da22-443f-8bd1-00c425c190dd",
   "metadata": {},
   "source": [
    "Insert the foreign keys into the consumption data and insert the resulting table into the database:"
   ]
  },
  {
   "cell_type": "code",
   "execution_count": 12,
   "id": "4aff7ce3-a467-41be-a081-3c64e1a94fe8",
   "metadata": {},
   "outputs": [
    {
     "name": "stdout",
     "output_type": "stream",
     "text": [
      "<class 'pandas.core.frame.DataFrame'>\n",
      "RangeIndex: 8540 entries, 0 to 8539\n",
      "Data columns (total 9 columns):\n",
      " #   Column       Non-Null Count  Dtype  \n",
      "---  ------       --------------  -----  \n",
      " 0   id           8540 non-null   int64  \n",
      " 1   scenario_id  8540 non-null   int64  \n",
      " 2   sector_id    8540 non-null   int64  \n",
      " 3   year         8540 non-null   int64  \n",
      " 4   value        8540 non-null   float64\n",
      " 5   unit         8540 non-null   object \n",
      " 6   scenario     8540 non-null   object \n",
      " 7   variant      8540 non-null   object \n",
      " 8   sector       8540 non-null   object \n",
      "dtypes: float64(1), int64(4), object(4)\n",
      "memory usage: 600.6+ KB\n"
     ]
    }
   ],
   "source": [
    "df_insert = (\n",
    "    df.merge(df_sector_db, on=\"sector\", how=\"left\").drop(columns=[\"sector\"])\n",
    "    .merge(df_scenario_db, on=[\"scenario\", \"variant\"], how=\"left\").drop(columns=[\"scenario\", \"variant\"])\n",
    ")\n",
    "with Session(engine) as session:\n",
    "    # add the records\n",
    "    session.add_all([ElecConsumption(**r) for r in df_insert.to_dict(orient=\"records\")])\n",
    "    session.commit()  \n",
    "    # get the orignal data back joining the tables\n",
    "    statement = select(\n",
    "        ElecConsumption,\n",
    "        Scenario.scenario,\n",
    "        Scenario.variant,\n",
    "        Sector.sector\n",
    "    ).join(\n",
    "        Scenario, ElecConsumption.scenario_id == Scenario.id\n",
    "    ).join(\n",
    "        Sector, ElecConsumption.sector_id == Sector.id\n",
    "    )\n",
    "    df_out = pd.read_sql(statement, session.bind)\n",
    "df_out.info()"
   ]
  },
  {
   "cell_type": "code",
   "execution_count": 13,
   "id": "283c74f0-ae7c-44ab-a6d3-6a7d0cd4c489",
   "metadata": {},
   "outputs": [
    {
     "data": {
      "text/html": [
       "<div>\n",
       "<style scoped>\n",
       "    .dataframe tbody tr th:only-of-type {\n",
       "        vertical-align: middle;\n",
       "    }\n",
       "\n",
       "    .dataframe tbody tr th {\n",
       "        vertical-align: top;\n",
       "    }\n",
       "\n",
       "    .dataframe thead th {\n",
       "        text-align: right;\n",
       "    }\n",
       "</style>\n",
       "<table border=\"1\" class=\"dataframe\">\n",
       "  <thead>\n",
       "    <tr style=\"text-align: right;\">\n",
       "      <th></th>\n",
       "      <th>id</th>\n",
       "      <th>scenario_id</th>\n",
       "      <th>sector_id</th>\n",
       "      <th>year</th>\n",
       "      <th>value</th>\n",
       "      <th>unit</th>\n",
       "      <th>scenario</th>\n",
       "      <th>variant</th>\n",
       "      <th>sector</th>\n",
       "    </tr>\n",
       "  </thead>\n",
       "  <tbody>\n",
       "    <tr>\n",
       "      <th>0</th>\n",
       "      <td>51297</td>\n",
       "      <td>51</td>\n",
       "      <td>85</td>\n",
       "      <td>2056</td>\n",
       "      <td>62.847994</td>\n",
       "      <td>TWh</td>\n",
       "      <td>ZERO-Basis</td>\n",
       "      <td>KKW50</td>\n",
       "      <td>EEV Strom</td>\n",
       "    </tr>\n",
       "    <tr>\n",
       "      <th>1</th>\n",
       "      <td>51298</td>\n",
       "      <td>51</td>\n",
       "      <td>85</td>\n",
       "      <td>2057</td>\n",
       "      <td>62.723762</td>\n",
       "      <td>TWh</td>\n",
       "      <td>ZERO-Basis</td>\n",
       "      <td>KKW50</td>\n",
       "      <td>EEV Strom</td>\n",
       "    </tr>\n",
       "    <tr>\n",
       "      <th>2</th>\n",
       "      <td>51299</td>\n",
       "      <td>51</td>\n",
       "      <td>85</td>\n",
       "      <td>2058</td>\n",
       "      <td>62.601761</td>\n",
       "      <td>TWh</td>\n",
       "      <td>ZERO-Basis</td>\n",
       "      <td>KKW50</td>\n",
       "      <td>EEV Strom</td>\n",
       "    </tr>\n",
       "    <tr>\n",
       "      <th>3</th>\n",
       "      <td>51300</td>\n",
       "      <td>51</td>\n",
       "      <td>85</td>\n",
       "      <td>2059</td>\n",
       "      <td>62.475753</td>\n",
       "      <td>TWh</td>\n",
       "      <td>ZERO-Basis</td>\n",
       "      <td>KKW50</td>\n",
       "      <td>EEV Strom</td>\n",
       "    </tr>\n",
       "    <tr>\n",
       "      <th>4</th>\n",
       "      <td>51301</td>\n",
       "      <td>51</td>\n",
       "      <td>85</td>\n",
       "      <td>2060</td>\n",
       "      <td>62.325072</td>\n",
       "      <td>TWh</td>\n",
       "      <td>ZERO-Basis</td>\n",
       "      <td>KKW50</td>\n",
       "      <td>EEV Strom</td>\n",
       "    </tr>\n",
       "    <tr>\n",
       "      <th>...</th>\n",
       "      <td>...</td>\n",
       "      <td>...</td>\n",
       "      <td>...</td>\n",
       "      <td>...</td>\n",
       "      <td>...</td>\n",
       "      <td>...</td>\n",
       "      <td>...</td>\n",
       "      <td>...</td>\n",
       "      <td>...</td>\n",
       "    </tr>\n",
       "    <tr>\n",
       "      <th>8535</th>\n",
       "      <td>59776</td>\n",
       "      <td>60</td>\n",
       "      <td>98</td>\n",
       "      <td>2056</td>\n",
       "      <td>78.138307</td>\n",
       "      <td>TWh</td>\n",
       "      <td>WWB</td>\n",
       "      <td>KKW60</td>\n",
       "      <td>Bruttoverbrauch</td>\n",
       "    </tr>\n",
       "    <tr>\n",
       "      <th>8536</th>\n",
       "      <td>59777</td>\n",
       "      <td>60</td>\n",
       "      <td>98</td>\n",
       "      <td>2057</td>\n",
       "      <td>78.445425</td>\n",
       "      <td>TWh</td>\n",
       "      <td>WWB</td>\n",
       "      <td>KKW60</td>\n",
       "      <td>Bruttoverbrauch</td>\n",
       "    </tr>\n",
       "    <tr>\n",
       "      <th>8537</th>\n",
       "      <td>59778</td>\n",
       "      <td>60</td>\n",
       "      <td>98</td>\n",
       "      <td>2058</td>\n",
       "      <td>78.907732</td>\n",
       "      <td>TWh</td>\n",
       "      <td>WWB</td>\n",
       "      <td>KKW60</td>\n",
       "      <td>Bruttoverbrauch</td>\n",
       "    </tr>\n",
       "    <tr>\n",
       "      <th>8538</th>\n",
       "      <td>59779</td>\n",
       "      <td>60</td>\n",
       "      <td>98</td>\n",
       "      <td>2059</td>\n",
       "      <td>79.237788</td>\n",
       "      <td>TWh</td>\n",
       "      <td>WWB</td>\n",
       "      <td>KKW60</td>\n",
       "      <td>Bruttoverbrauch</td>\n",
       "    </tr>\n",
       "    <tr>\n",
       "      <th>8539</th>\n",
       "      <td>59780</td>\n",
       "      <td>60</td>\n",
       "      <td>98</td>\n",
       "      <td>2060</td>\n",
       "      <td>79.565868</td>\n",
       "      <td>TWh</td>\n",
       "      <td>WWB</td>\n",
       "      <td>KKW60</td>\n",
       "      <td>Bruttoverbrauch</td>\n",
       "    </tr>\n",
       "  </tbody>\n",
       "</table>\n",
       "<p>8540 rows × 9 columns</p>\n",
       "</div>"
      ],
      "text/plain": [
       "         id  scenario_id  sector_id  year      value unit    scenario variant  \\\n",
       "0     51297           51         85  2056  62.847994  TWh  ZERO-Basis   KKW50   \n",
       "1     51298           51         85  2057  62.723762  TWh  ZERO-Basis   KKW50   \n",
       "2     51299           51         85  2058  62.601761  TWh  ZERO-Basis   KKW50   \n",
       "3     51300           51         85  2059  62.475753  TWh  ZERO-Basis   KKW50   \n",
       "4     51301           51         85  2060  62.325072  TWh  ZERO-Basis   KKW50   \n",
       "...     ...          ...        ...   ...        ...  ...         ...     ...   \n",
       "8535  59776           60         98  2056  78.138307  TWh         WWB   KKW60   \n",
       "8536  59777           60         98  2057  78.445425  TWh         WWB   KKW60   \n",
       "8537  59778           60         98  2058  78.907732  TWh         WWB   KKW60   \n",
       "8538  59779           60         98  2059  79.237788  TWh         WWB   KKW60   \n",
       "8539  59780           60         98  2060  79.565868  TWh         WWB   KKW60   \n",
       "\n",
       "               sector  \n",
       "0           EEV Strom  \n",
       "1           EEV Strom  \n",
       "2           EEV Strom  \n",
       "3           EEV Strom  \n",
       "4           EEV Strom  \n",
       "...               ...  \n",
       "8535  Bruttoverbrauch  \n",
       "8536  Bruttoverbrauch  \n",
       "8537  Bruttoverbrauch  \n",
       "8538  Bruttoverbrauch  \n",
       "8539  Bruttoverbrauch  \n",
       "\n",
       "[8540 rows x 9 columns]"
      ]
     },
     "execution_count": 13,
     "metadata": {},
     "output_type": "execute_result"
    }
   ],
   "source": [
    "df_out"
   ]
  },
  {
   "cell_type": "code",
   "execution_count": null,
   "id": "360cc8ec-b1d7-4aae-97f8-a82dfdd63367",
   "metadata": {},
   "outputs": [],
   "source": []
  }
 ],
 "metadata": {
  "kernelspec": {
   "display_name": "Python 3 (ipykernel)",
   "language": "python",
   "name": "python3"
  },
  "language_info": {
   "codemirror_mode": {
    "name": "ipython",
    "version": 3
   },
   "file_extension": ".py",
   "mimetype": "text/x-python",
   "name": "python",
   "nbconvert_exporter": "python",
   "pygments_lexer": "ipython3",
   "version": "3.13.7"
  }
 },
 "nbformat": 4,
 "nbformat_minor": 5
}
