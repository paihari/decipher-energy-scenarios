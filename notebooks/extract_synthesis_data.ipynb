{
 "cells": [
  {
   "cell_type": "markdown",
   "id": "9094d9c0",
   "metadata": {},
   "source": [
    "# Template: Data Extraction"
   ]
  },
  {
   "cell_type": "markdown",
   "id": "1e925e8b",
   "metadata": {},
   "source": [
    "Template notebook that shows how to extract the data for scenarios from the\n",
    "zip files containing the excel files by scenario."
   ]
  },
  {
   "cell_type": "markdown",
   "id": "e99000a3",
   "metadata": {},
   "source": [
    "## Options and packages"
   ]
  },
  {
   "cell_type": "code",
   "execution_count": 1,
   "id": "ea3ab834",
   "metadata": {},
   "outputs": [],
   "source": [
    "import pandas as pd\n",
    "from utils import extract_data_all_scenarios"
   ]
  },
  {
   "cell_type": "code",
   "execution_count": 2,
   "id": "5f888fed",
   "metadata": {},
   "outputs": [],
   "source": [
    "dir_out = \"../data/extracted/synthesis/\""
   ]
  },
  {
   "cell_type": "markdown",
   "id": "acd330a2",
   "metadata": {},
   "source": [
    "## Helper functions"
   ]
  },
  {
   "cell_type": "markdown",
   "id": "6cfc04cf",
   "metadata": {},
   "source": [
    "Some functions to find the correct excel in the zip file containing the results\n",
    "by scenario."
   ]
  },
  {
   "cell_type": "code",
   "execution_count": 3,
   "id": "900bfcc1",
   "metadata": {},
   "outputs": [],
   "source": [
    "def fn_excel_synthesis_50(scenario):\n",
    "    if scenario == \"WWB\":\n",
    "        return \"EP2050+_Szenarienergebnisse_WWB/EP2050+_Ergebnissynthese_2020-2060_WWB_KKW50_aktuelleRahmenbedingungen_2022-04-12.xlsx\"\n",
    "    return f\"EP2050+_Szenarienergebnisse_{scenario}/EP2050+_Ergebnissynthese_2020-2060_{scenario}_KKW50_ausgeglicheneJahresbilanz_2022-04-12.xlsx\""
   ]
  },
  {
   "cell_type": "markdown",
   "id": "65ab5309",
   "metadata": {},
   "source": [
    "## Assumptions"
   ]
  },
  {
   "cell_type": "code",
   "execution_count": 4,
   "id": "16334972",
   "metadata": {},
   "outputs": [],
   "source": [
    "sheet = \"01 Annahmen und Rahmendaten\""
   ]
  },
  {
   "cell_type": "code",
   "execution_count": 5,
   "id": "7ea018c6",
   "metadata": {},
   "outputs": [
    {
     "name": "stdout",
     "output_type": "stream",
     "text": [
      "Extracting data for scenario ZERO-Basis\n",
      "Extracting data for scenario ZERO-A\n",
      "Extracting data for scenario ZERO-B\n",
      "Extracting data for scenario ZERO-C\n",
      "Extracting data for scenario WWB\n"
     ]
    }
   ],
   "source": [
    "start, end = \"B12\", \"BM16\"\n",
    "out_name = \"01-01-demography_economics\"\n",
    "# generation by technology\n",
    "df = extract_data_all_scenarios(\n",
    "    sheet_name=sheet,\n",
    "    fn_excel=fn_excel_synthesis_50,\n",
    "    start_cell=start,\n",
    "    end_cell=end,\n",
    "    name_index=[\"variable\", \"unit\"],\n",
    ").assign(variant=\"KKW50\")\n",
    "\n",
    "fn_out = f\"{dir_out}{out_name}.csv\"\n",
    "df.to_csv(fn_out, index=False)"
   ]
  },
  {
   "cell_type": "code",
   "execution_count": 6,
   "id": "785c21ef",
   "metadata": {},
   "outputs": [
    {
     "name": "stdout",
     "output_type": "stream",
     "text": [
      "Extracting data for scenario ZERO-Basis\n",
      "Extracting data for scenario ZERO-A\n",
      "Extracting data for scenario ZERO-B\n",
      "Extracting data for scenario ZERO-C\n",
      "Extracting data for scenario WWB\n"
     ]
    }
   ],
   "source": [
    "out_name = \"01-02-value_added_by_sector\"\n",
    "# generation by technology\n",
    "df = pd.concat(\n",
    "    [\n",
    "        extract_data_all_scenarios(\n",
    "            sheet_name=sheet,\n",
    "            fn_excel=fn_excel_synthesis_50,\n",
    "            start_cell=\"B23\",\n",
    "            end_cell=\"BM46\",\n",
    "            name_index=[\"noga\", \"industry\", \"unit\"],\n",
    "            exclude_scenarios=[\"WWB\"],\n",
    "        ),\n",
    "        extract_data_all_scenarios(\n",
    "            sheet_name=sheet,\n",
    "            fn_excel=fn_excel_synthesis_50,\n",
    "            start_cell=\"B23\",\n",
    "            end_cell=\"BM47\",\n",
    "            name_index=[\"noga\", \"industry\", \"unit\"],\n",
    "            exclude_scenarios=[\"ZERO-Basis\", \"ZERO-B\", \"ZERO-A\", \"ZERO-C\"],\n",
    "        ),\n",
    "    ]\n",
    ").assign(variant=\"KKW50\")\n",
    "\n",
    "fn_out = f\"{dir_out}{out_name}.csv\"\n",
    "df.to_csv(fn_out, index=False)"
   ]
  },
  {
   "cell_type": "code",
   "execution_count": 7,
   "id": "444add68",
   "metadata": {},
   "outputs": [
    {
     "name": "stdout",
     "output_type": "stream",
     "text": [
      "Extracting data for scenario ZERO-Basis\n",
      "Extracting data for scenario ZERO-A\n",
      "Extracting data for scenario ZERO-B\n",
      "Extracting data for scenario ZERO-C\n",
      "Extracting data for scenario WWB\n"
     ]
    }
   ],
   "source": [
    "out_name = \"01-03-labor_full_time_equivalent_by_sector\"\n",
    "# generation by technology\n",
    "df = pd.concat(\n",
    "    [\n",
    "        extract_data_all_scenarios(\n",
    "            sheet_name=sheet,\n",
    "            fn_excel=fn_excel_synthesis_50,\n",
    "            start_cell=\"B54\",\n",
    "            end_cell=\"BM77\",\n",
    "            name_index=[\"noga\", \"industry\", \"unit\"],\n",
    "            exclude_scenarios=[\"WWB\", \"ZERO-C\"],\n",
    "        ),\n",
    "        extract_data_all_scenarios(\n",
    "            sheet_name=sheet,\n",
    "            fn_excel=fn_excel_synthesis_50,\n",
    "            start_cell=\"B55\",\n",
    "            end_cell=\"BM78\",\n",
    "            name_index=[\"noga\", \"industry\", \"unit\"],\n",
    "            exclude_scenarios=[\n",
    "                \"ZERO-Basis\",\n",
    "                \"ZERO-B\",\n",
    "                \"ZERO-A\",\n",
    "            ],\n",
    "        ),\n",
    "    ]\n",
    ").assign(variant=\"KKW50\")\n",
    "\n",
    "fn_out = f\"{dir_out}{out_name}.csv\"\n",
    "df.to_csv(fn_out, index=False)"
   ]
  },
  {
   "cell_type": "code",
   "execution_count": 8,
   "id": "1b6ce668",
   "metadata": {},
   "outputs": [
    {
     "name": "stdout",
     "output_type": "stream",
     "text": [
      "Extracting data for scenario ZERO-Basis\n",
      "Extracting data for scenario ZERO-A\n",
      "Extracting data for scenario ZERO-B\n",
      "Extracting data for scenario ZERO-C\n",
      "Extracting data for scenario WWB\n"
     ]
    }
   ],
   "source": [
    "out_name = \"01-04-energy_reference_area_by_sector\"\n",
    "# generation by technology\n",
    "df = pd.concat(\n",
    "    [\n",
    "        extract_data_all_scenarios(\n",
    "            sheet_name=sheet,\n",
    "            fn_excel=fn_excel_synthesis_50,\n",
    "            start_cell=\"B85\",\n",
    "            end_cell=\"BM110\",\n",
    "            name_index=[\"noga\", \"industry\", \"unit\"],\n",
    "            exclude_scenarios=[\"WWB\", \"ZERO-C\"],\n",
    "        ),\n",
    "        extract_data_all_scenarios(\n",
    "            sheet_name=sheet,\n",
    "            fn_excel=fn_excel_synthesis_50,\n",
    "            start_cell=\"B86\",\n",
    "            end_cell=\"BM111\",\n",
    "            name_index=[\"noga\", \"industry\", \"unit\"],\n",
    "            exclude_scenarios=[\n",
    "                \"ZERO-Basis\",\n",
    "                \"ZERO-B\",\n",
    "                \"ZERO-A\",\n",
    "            ],\n",
    "        ),\n",
    "    ]\n",
    ").assign(variant=\"KKW50\")\n",
    "\n",
    "fn_out = f\"{dir_out}{out_name}.csv\"\n",
    "df.to_csv(fn_out, index=False)"
   ]
  },
  {
   "cell_type": "code",
   "execution_count": 9,
   "id": "f62439ad",
   "metadata": {},
   "outputs": [
    {
     "name": "stdout",
     "output_type": "stream",
     "text": [
      "Extracting data for scenario ZERO-Basis\n",
      "Extracting data for scenario ZERO-A\n",
      "Extracting data for scenario ZERO-B\n",
      "Extracting data for scenario ZERO-C\n",
      "Extracting data for scenario WWB\n"
     ]
    }
   ],
   "source": [
    "out_name = \"01-05-energy_prices\"\n",
    "# generation by technology\n",
    "df = pd.concat(\n",
    "    [\n",
    "        extract_data_all_scenarios(\n",
    "            sheet_name=sheet,\n",
    "            fn_excel=fn_excel_synthesis_50,\n",
    "            start_cell=\"B118\",\n",
    "            end_cell=\"BM122\",\n",
    "            name_index=[\"fuel\", \"unit\"],\n",
    "            exclude_scenarios=[\"WWB\", \"ZERO-C\"],\n",
    "        ),\n",
    "        extract_data_all_scenarios(\n",
    "            sheet_name=sheet,\n",
    "            fn_excel=fn_excel_synthesis_50,\n",
    "            start_cell=\"B119\",\n",
    "            end_cell=\"BM123\",\n",
    "            name_index=[\"fuel\", \"unit\"],\n",
    "            exclude_scenarios=[\n",
    "                \"ZERO-Basis\",\n",
    "                \"ZERO-B\",\n",
    "                \"ZERO-A\",\n",
    "            ],\n",
    "        ),\n",
    "    ]\n",
    ").assign(variant=\"KKW50\")\n",
    "\n",
    "fn_out = f\"{dir_out}{out_name}.csv\"\n",
    "df.to_csv(fn_out, index=False)"
   ]
  },
  {
   "cell_type": "code",
   "execution_count": 10,
   "id": "948a97c9",
   "metadata": {},
   "outputs": [
    {
     "name": "stdout",
     "output_type": "stream",
     "text": [
      "Extracting data for scenario ZERO-Basis\n",
      "Extracting data for scenario ZERO-A\n",
      "Extracting data for scenario ZERO-B\n",
      "Extracting data for scenario ZERO-C\n",
      "Extracting data for scenario WWB\n"
     ]
    }
   ],
   "source": [
    "out_name = \"01-06-weather_climate\"\n",
    "# generation by technology\n",
    "df = pd.concat(\n",
    "    [\n",
    "        extract_data_all_scenarios(\n",
    "            sheet_name=sheet,\n",
    "            fn_excel=fn_excel_synthesis_50,\n",
    "            start_cell=\"B130\",\n",
    "            end_cell=\"BM133\",\n",
    "            name_index=[\"transport_mode\", \"unit\"],\n",
    "            exclude_scenarios=[\"WWB\", \"ZERO-C\"],\n",
    "        ),\n",
    "        extract_data_all_scenarios(\n",
    "            sheet_name=sheet,\n",
    "            fn_excel=fn_excel_synthesis_50,\n",
    "            start_cell=\"B131\",\n",
    "            end_cell=\"BM134\",\n",
    "            name_index=[\"transport_mode\", \"unit\"],\n",
    "            exclude_scenarios=[\n",
    "                \"ZERO-Basis\",\n",
    "                \"ZERO-B\",\n",
    "                \"ZERO-A\",\n",
    "            ],\n",
    "        ),\n",
    "    ]\n",
    ").assign(variant=\"KKW50\")\n",
    "\n",
    "fn_out = f\"{dir_out}{out_name}.csv\"\n",
    "df.to_csv(fn_out, index=False)"
   ]
  },
  {
   "cell_type": "code",
   "execution_count": 11,
   "id": "6ff61f88",
   "metadata": {},
   "outputs": [
    {
     "name": "stdout",
     "output_type": "stream",
     "text": [
      "Extracting data for scenario ZERO-Basis\n",
      "Extracting data for scenario ZERO-A\n",
      "Extracting data for scenario ZERO-B\n",
      "Extracting data for scenario ZERO-C\n",
      "Extracting data for scenario WWB\n"
     ]
    }
   ],
   "source": [
    "out_name = \"01-07-transport\"\n",
    "# generation by technology\n",
    "df = pd.concat(\n",
    "    [\n",
    "        extract_data_all_scenarios(\n",
    "            sheet_name=sheet,\n",
    "            fn_excel=fn_excel_synthesis_50,\n",
    "            start_cell=\"B141\",\n",
    "            end_cell=\"BM148\",\n",
    "            name_index=[\"variable\", \"unit\"],\n",
    "            exclude_scenarios=[\"WWB\", \"ZERO-C\"],\n",
    "        ),\n",
    "        extract_data_all_scenarios(\n",
    "            sheet_name=sheet,\n",
    "            fn_excel=fn_excel_synthesis_50,\n",
    "            start_cell=\"B142\",\n",
    "            end_cell=\"BM149\",\n",
    "            name_index=[\"variable\", \"unit\"],\n",
    "            exclude_scenarios=[\n",
    "                \"ZERO-Basis\",\n",
    "                \"ZERO-B\",\n",
    "                \"ZERO-A\",\n",
    "            ],\n",
    "        ),\n",
    "    ]\n",
    ").assign(variant=\"KKW50\")\n",
    "\n",
    "fn_out = f\"{dir_out}{out_name}.csv\"\n",
    "df.to_csv(fn_out, index=False)"
   ]
  },
  {
   "cell_type": "markdown",
   "id": "732c61fc",
   "metadata": {},
   "source": [
    "## Greenhouse gases"
   ]
  },
  {
   "cell_type": "code",
   "execution_count": 12,
   "id": "243e9110",
   "metadata": {},
   "outputs": [],
   "source": [
    "sheet = \"02 THG\""
   ]
  },
  {
   "cell_type": "code",
   "execution_count": 13,
   "id": "c3e2ba20",
   "metadata": {},
   "outputs": [
    {
     "name": "stdout",
     "output_type": "stream",
     "text": [
      "Extracting data for scenario ZERO-Basis\n",
      "Extracting data for scenario ZERO-A\n",
      "Extracting data for scenario ZERO-B\n",
      "Extracting data for scenario ZERO-C\n",
      "Extracting data for scenario WWB\n"
     ]
    }
   ],
   "source": [
    "out_name = \"02-01-emissions_ghg\"\n",
    "df = pd.concat([\n",
    "    extract_data_all_scenarios(\n",
    "        sheet_name=sheet,\n",
    "        fn_excel=fn_excel_synthesis_50,\n",
    "        start_cell=\"B12\",\n",
    "        end_cell=\"BV73\",\n",
    "        name_index=[\"crf_id\", \"crf\"],\n",
    "        exclude_scenarios=[\"WWB\"],\n",
    "    ),\n",
    "    extract_data_all_scenarios(\n",
    "        sheet_name=sheet,\n",
    "        fn_excel=fn_excel_synthesis_50,\n",
    "        start_cell=\"B12\",\n",
    "        end_cell=\"BV60\",\n",
    "        name_index=[\"crf_id\", \"crf\"],\n",
    "        exclude_scenarios=[\"ZERO-Basis\", \"ZERO-B\", \"ZERO-A\", \"ZERO-C\"],\n",
    "    )\n",
    "]).assign(variant=\"KKW50\", unit=\"Mt CO2equiv\")\n",
    "\n",
    "fn_out = f\"{dir_out}{out_name}.csv\"\n",
    "df.to_csv(fn_out, index=False)"
   ]
  },
  {
   "cell_type": "code",
   "execution_count": 14,
   "id": "8c7e1491",
   "metadata": {},
   "outputs": [
    {
     "name": "stdout",
     "output_type": "stream",
     "text": [
      "Extracting data for scenario ZERO-Basis\n",
      "Extracting data for scenario ZERO-A\n",
      "Extracting data for scenario WWB\n",
      "Extracting data for scenario ZERO-B\n",
      "Extracting data for scenario ZERO-C\n"
     ]
    }
   ],
   "source": [
    "out_name = \"02-02-emissions_co2\"\n",
    "df = pd.concat(\n",
    "    [\n",
    "        extract_data_all_scenarios(  # ZERO-Basis, ZERO-A\n",
    "            sheet_name=sheet,\n",
    "            fn_excel=fn_excel_synthesis_50,\n",
    "            start_cell=\"B81\",\n",
    "            end_cell=\"BV142\",\n",
    "            name_index=[\"crf_id\", \"crf\"],\n",
    "            exclude_scenarios=[\"WWB\", \"ZERO-B\", \"ZERO-C\"],\n",
    "        ),\n",
    "        extract_data_all_scenarios(  # WWB\n",
    "            sheet_name=sheet,\n",
    "            fn_excel=fn_excel_synthesis_50,\n",
    "            start_cell=\"B71\",\n",
    "            end_cell=\"BV119\",\n",
    "            name_index=[\"crf_id\", \"crf\"],\n",
    "            exclude_scenarios=[\"ZERO-Basis\", \"ZERO-A\", \"ZERO-B\", \"ZERO-C\"],\n",
    "        ),\n",
    "        extract_data_all_scenarios(  #  \"ZERO-B\", \"ZERO-C\"\n",
    "            sheet_name=sheet,\n",
    "            fn_excel=fn_excel_synthesis_50,\n",
    "            start_cell=\"B85\",\n",
    "            end_cell=\"BV146\",\n",
    "            name_index=[\"crf_id\", \"crf\"],\n",
    "            exclude_scenarios=[\"ZERO-Basis\", \"ZERO-A\", \"WWB\"],\n",
    "        ),\n",
    "    ]\n",
    ").assign(variant=\"KKW50\", unit=\"Mt CO2equiv\")\n",
    "\n",
    "fn_out = f\"{dir_out}{out_name}.csv\"\n",
    "df.to_csv(fn_out, index=False)"
   ]
  },
  {
   "cell_type": "code",
   "execution_count": 15,
   "id": "a436e285",
   "metadata": {},
   "outputs": [
    {
     "name": "stdout",
     "output_type": "stream",
     "text": [
      "Extracting data for scenario ZERO-Basis\n",
      "Extracting data for scenario ZERO-A\n",
      "Extracting data for scenario WWB\n",
      "Extracting data for scenario ZERO-B\n",
      "Extracting data for scenario ZERO-C\n"
     ]
    }
   ],
   "source": [
    "out_name = \"02-03-emissions_ch4\"\n",
    "df = pd.concat(\n",
    "    [\n",
    "        extract_data_all_scenarios(  # ZERO-Basis, ZERO-A\n",
    "            sheet_name=sheet,\n",
    "            fn_excel=fn_excel_synthesis_50,\n",
    "            start_cell=\"B150\",\n",
    "            end_cell=\"BV211\",\n",
    "            name_index=[\"crf_id\", \"crf\"],\n",
    "            exclude_scenarios=[\"WWB\", \"ZERO-B\", \"ZERO-C\"],\n",
    "        ),\n",
    "        extract_data_all_scenarios(  # WWB\n",
    "            sheet_name=sheet,\n",
    "            fn_excel=fn_excel_synthesis_50,\n",
    "            start_cell=\"B127\",\n",
    "            end_cell=\"BV175\",\n",
    "            name_index=[\"crf_id\", \"crf\"],\n",
    "            exclude_scenarios=[\"ZERO-Basis\", \"ZERO-A\", \"ZERO-B\", \"ZERO-C\"],\n",
    "        ),\n",
    "        extract_data_all_scenarios(  #  \"ZERO-B\", \"ZERO-C\"\n",
    "            sheet_name=sheet,\n",
    "            fn_excel=fn_excel_synthesis_50,\n",
    "            start_cell=\"B154\",\n",
    "            end_cell=\"BV215\",\n",
    "            name_index=[\"crf_id\", \"crf\"],\n",
    "            exclude_scenarios=[\"ZERO-Basis\", \"ZERO-A\", \"WWB\"],\n",
    "        ),\n",
    "    ]\n",
    ").assign(variant=\"KKW50\", unit=\"Mt CO2equiv\")\n",
    "\n",
    "fn_out = f\"{dir_out}{out_name}.csv\"\n",
    "df.to_csv(fn_out, index=False)"
   ]
  },
  {
   "cell_type": "code",
   "execution_count": 16,
   "id": "f7242069",
   "metadata": {},
   "outputs": [
    {
     "name": "stdout",
     "output_type": "stream",
     "text": [
      "Extracting data for scenario ZERO-Basis\n",
      "Extracting data for scenario ZERO-A\n",
      "Extracting data for scenario WWB\n",
      "Extracting data for scenario ZERO-B\n",
      "Extracting data for scenario ZERO-C\n"
     ]
    }
   ],
   "source": [
    "out_name = \"02-04-emissions_n20\"\n",
    "df = pd.concat(\n",
    "    [\n",
    "        extract_data_all_scenarios(  # ZERO-Basis, ZERO-A\n",
    "            sheet_name=sheet,\n",
    "            fn_excel=fn_excel_synthesis_50,\n",
    "            start_cell=\"B219\",\n",
    "            end_cell=\"BV280\",\n",
    "            name_index=[\"crf_id\", \"crf\"],\n",
    "            exclude_scenarios=[\"WWB\", \"ZERO-B\", \"ZERO-C\"],\n",
    "        ),\n",
    "        extract_data_all_scenarios(  # WWB\n",
    "            sheet_name=sheet,\n",
    "            fn_excel=fn_excel_synthesis_50,\n",
    "            start_cell=\"B183\",\n",
    "            end_cell=\"BV231\",\n",
    "            name_index=[\"crf_id\", \"crf\"],\n",
    "            exclude_scenarios=[\"ZERO-Basis\", \"ZERO-A\", \"ZERO-B\", \"ZERO-C\"],\n",
    "        ),\n",
    "        extract_data_all_scenarios(  #  \"ZERO-B\", \"ZERO-C\"\n",
    "            sheet_name=sheet,\n",
    "            fn_excel=fn_excel_synthesis_50,\n",
    "            start_cell=\"B223\",\n",
    "            end_cell=\"BV284\",\n",
    "            name_index=[\"crf_id\", \"crf\"],\n",
    "            exclude_scenarios=[\"ZERO-Basis\", \"ZERO-A\", \"WWB\"],\n",
    "        ),\n",
    "    ]\n",
    ").assign(variant=\"KKW50\", unit=\"Mt CO2equiv\")\n",
    "\n",
    "fn_out = f\"{dir_out}{out_name}.csv\"\n",
    "df.to_csv(fn_out, index=False)"
   ]
  },
  {
   "cell_type": "code",
   "execution_count": 17,
   "id": "a19fb287",
   "metadata": {},
   "outputs": [
    {
     "name": "stdout",
     "output_type": "stream",
     "text": [
      "Extracting data for scenario ZERO-Basis\n",
      "Extracting data for scenario ZERO-A\n",
      "Extracting data for scenario WWB\n",
      "Extracting data for scenario ZERO-B\n",
      "Extracting data for scenario ZERO-C\n"
     ]
    }
   ],
   "source": [
    "out_name = \"02-05-emissions_fgas\"\n",
    "df = pd.concat(\n",
    "    [\n",
    "        extract_data_all_scenarios(  # ZERO-Basis, ZERO-A\n",
    "            sheet_name=sheet,\n",
    "            fn_excel=fn_excel_synthesis_50,\n",
    "            start_cell=\"B288\",\n",
    "            end_cell=\"BV349\",\n",
    "            name_index=[\"crf_id\", \"crf\"],\n",
    "            exclude_scenarios=[\"WWB\", \"ZERO-B\", \"ZERO-C\"],\n",
    "        ),\n",
    "        extract_data_all_scenarios(  # WWB\n",
    "            sheet_name=sheet,\n",
    "            fn_excel=fn_excel_synthesis_50,\n",
    "            start_cell=\"B239\",\n",
    "            end_cell=\"BV287\",\n",
    "            name_index=[\"crf_id\", \"crf\"],\n",
    "            exclude_scenarios=[\"ZERO-Basis\", \"ZERO-A\", \"ZERO-B\", \"ZERO-C\"],\n",
    "        ),\n",
    "        extract_data_all_scenarios(  #  \"ZERO-B\", \"ZERO-C\"\n",
    "            sheet_name=sheet,\n",
    "            fn_excel=fn_excel_synthesis_50,\n",
    "            start_cell=\"B292\",\n",
    "            end_cell=\"BV353\",\n",
    "            name_index=[\"crf_id\", \"crf\"],\n",
    "            exclude_scenarios=[\"ZERO-Basis\", \"ZERO-A\", \"WWB\"],\n",
    "        ),\n",
    "    ]\n",
    ").assign(variant=\"KKW50\", unit=\"Mt CO2equiv\")\n",
    "\n",
    "fn_out = f\"{dir_out}{out_name}.csv\"\n",
    "df.to_csv(fn_out, index=False)"
   ]
  },
  {
   "cell_type": "code",
   "execution_count": 18,
   "id": "54a034ac",
   "metadata": {},
   "outputs": [
    {
     "name": "stdout",
     "output_type": "stream",
     "text": [
      "Extracting data for scenario ZERO-Basis\n",
      "Extracting data for scenario ZERO-A\n",
      "Extracting data for scenario WWB\n",
      "Extracting data for scenario ZERO-B\n",
      "Extracting data for scenario ZERO-C\n"
     ]
    }
   ],
   "source": [
    "out_name = \"02-05-emissions_ghg_by_noga\"\n",
    "df = pd.concat(\n",
    "    [\n",
    "        extract_data_all_scenarios(  # ZERO-Basis, ZERO-A\n",
    "            sheet_name=sheet,\n",
    "            fn_excel=fn_excel_synthesis_50,\n",
    "            start_cell=\"B357\",\n",
    "            end_cell=\"BV382\",\n",
    "            name_index=[\"noga\", \"sector\"],\n",
    "            exclude_scenarios=[\"WWB\", \"ZERO-B\", \"ZERO-C\"],\n",
    "        ),\n",
    "        extract_data_all_scenarios(  # WWB\n",
    "            sheet_name=sheet,\n",
    "            fn_excel=fn_excel_synthesis_50,\n",
    "            start_cell=\"B295\",\n",
    "            end_cell=\"BV320\",\n",
    "            name_index=[\"noga\", \"sector\"],\n",
    "            exclude_scenarios=[\"ZERO-Basis\", \"ZERO-A\", \"ZERO-B\", \"ZERO-C\"],\n",
    "        ),\n",
    "        extract_data_all_scenarios(  #  \"ZERO-B\", \"ZERO-C\"\n",
    "            sheet_name=sheet,\n",
    "            fn_excel=fn_excel_synthesis_50,\n",
    "            start_cell=\"B361\",\n",
    "            end_cell=\"BV386\",\n",
    "            name_index=[\"noga\", \"sector\"],\n",
    "            exclude_scenarios=[\"ZERO-Basis\", \"ZERO-A\", \"WWB\"],\n",
    "        ),\n",
    "    ]\n",
    ").assign(variant=\"KKW50\", unit=\"Mt CO2equiv\")\n",
    "\n",
    "fn_out = f\"{dir_out}{out_name}.csv\"\n",
    "df.to_csv(fn_out, index=False)"
   ]
  },
  {
   "cell_type": "markdown",
   "id": "9917bc5f",
   "metadata": {},
   "source": [
    "## Gross energy consumption"
   ]
  },
  {
   "cell_type": "code",
   "execution_count": 19,
   "id": "eee8d57d",
   "metadata": {},
   "outputs": [],
   "source": [
    "sheet = \"03 BEV\""
   ]
  },
  {
   "cell_type": "code",
   "execution_count": 20,
   "id": "b498f589",
   "metadata": {},
   "outputs": [
    {
     "name": "stdout",
     "output_type": "stream",
     "text": [
      "Extracting data for scenario ZERO-Basis\n",
      "Extracting data for scenario ZERO-A\n",
      "Extracting data for scenario ZERO-B\n",
      "Extracting data for scenario ZERO-C\n",
      "Extracting data for scenario WWB\n"
     ]
    }
   ],
   "source": [
    "start, end = \"B12\", \"BK30\"\n",
    "out_name = \"03-01-gross_energy_consumption_by_fuel\"\n",
    "# generation by technology\n",
    "df = extract_data_all_scenarios(\n",
    "    sheet_name=sheet,\n",
    "    fn_excel=fn_excel_synthesis_50,\n",
    "    start_cell=start,\n",
    "    end_cell=end,\n",
    "    name_index=[\"fuel\"],\n",
    ").assign(variant=\"KKW50\", unit=\"PJ\")\n",
    "\n",
    "fn_out = f\"{dir_out}{out_name}.csv\"\n",
    "df.to_csv(fn_out, index=False)"
   ]
  },
  {
   "cell_type": "code",
   "execution_count": 21,
   "id": "7b2877b6",
   "metadata": {},
   "outputs": [
    {
     "name": "stdout",
     "output_type": "stream",
     "text": [
      "Extracting data for scenario ZERO-Basis\n",
      "Extracting data for scenario ZERO-A\n",
      "Extracting data for scenario ZERO-B\n",
      "Extracting data for scenario ZERO-C\n",
      "Extracting data for scenario WWB\n"
     ]
    }
   ],
   "source": [
    "start, end = \"B37\", \"BK44\"\n",
    "out_name = \"03-02-gross_energy_consumption_by_sector\"\n",
    "# generation by technology\n",
    "df = extract_data_all_scenarios(\n",
    "    sheet_name=sheet,\n",
    "    fn_excel=fn_excel_synthesis_50,\n",
    "    start_cell=start,\n",
    "    end_cell=end,\n",
    "    name_index=[\"sector\"],\n",
    ").assign(variant=\"KKW50\", unit=\"PJ\")\n",
    "\n",
    "fn_out = f\"{dir_out}{out_name}.csv\"\n",
    "df.to_csv(fn_out, index=False)"
   ]
  },
  {
   "cell_type": "markdown",
   "id": "76427b01",
   "metadata": {},
   "source": [
    "## Final energy consumption"
   ]
  },
  {
   "cell_type": "code",
   "execution_count": 22,
   "id": "b665268a",
   "metadata": {},
   "outputs": [],
   "source": [
    "sheet = \"04 EEV\""
   ]
  },
  {
   "cell_type": "code",
   "execution_count": 23,
   "id": "b55c829c",
   "metadata": {},
   "outputs": [
    {
     "name": "stdout",
     "output_type": "stream",
     "text": [
      "Extracting data for scenario ZERO-Basis\n",
      "Extracting data for scenario ZERO-A\n",
      "Extracting data for scenario ZERO-B\n",
      "Extracting data for scenario ZERO-C\n",
      "Extracting data for scenario WWB\n"
     ]
    }
   ],
   "source": [
    "start, end = \"B12\", \"BL30\"\n",
    "out_name = \"04-01-final_energy_consumption_by_fuel\"\n",
    "# generation by technology\n",
    "df = extract_data_all_scenarios(\n",
    "    sheet_name=sheet,\n",
    "    fn_excel=fn_excel_synthesis_50,\n",
    "    start_cell=start,\n",
    "    end_cell=end,\n",
    "    name_index=[\"fuel\"],\n",
    ").assign(variant=\"KKW50\", unit=\"PJ\")\n",
    "\n",
    "fn_out = f\"{dir_out}{out_name}.csv\"\n",
    "df.to_csv(fn_out, index=False)"
   ]
  },
  {
   "cell_type": "code",
   "execution_count": 24,
   "id": "dc013c32",
   "metadata": {},
   "outputs": [
    {
     "name": "stdout",
     "output_type": "stream",
     "text": [
      "Extracting data for scenario ZERO-Basis\n",
      "Extracting data for scenario ZERO-A\n",
      "Extracting data for scenario ZERO-B\n",
      "Extracting data for scenario ZERO-C\n",
      "Extracting data for scenario WWB\n"
     ]
    }
   ],
   "source": [
    "start, end = \"B46\", \"BL128\"\n",
    "out_name = \"04-02-final_energy_consumption_by_purpose_fuel\"\n",
    "# generation by technology\n",
    "df = extract_data_all_scenarios(\n",
    "    sheet_name=sheet,\n",
    "    fn_excel=fn_excel_synthesis_50,\n",
    "    start_cell=start,\n",
    "    end_cell=end,\n",
    "    name_index=[\"fuel\"],\n",
    ").assign(variant=\"KKW50\", unit=\"PJ\")\n",
    "\n",
    "fn_out = f\"{dir_out}{out_name}.csv\"\n",
    "df.to_csv(fn_out, index=False)"
   ]
  },
  {
   "cell_type": "code",
   "execution_count": 25,
   "id": "a99153cf",
   "metadata": {},
   "outputs": [
    {
     "name": "stdout",
     "output_type": "stream",
     "text": [
      "Extracting data for scenario ZERO-Basis\n",
      "Extracting data for scenario ZERO-A\n",
      "Extracting data for scenario ZERO-B\n",
      "Extracting data for scenario ZERO-C\n",
      "Extracting data for scenario WWB\n"
     ]
    }
   ],
   "source": [
    "start, end = \"B135\", \"BL143\"\n",
    "out_name = \"04-03-final_energy_consumption_by_sector\"\n",
    "# generation by technology\n",
    "df = extract_data_all_scenarios(\n",
    "    sheet_name=sheet,\n",
    "    fn_excel=fn_excel_synthesis_50,\n",
    "    start_cell=start,\n",
    "    end_cell=end,\n",
    "    name_index=[\"sector\"],\n",
    ").assign(variant=\"KKW50\", unit=\"PJ\")\n",
    "\n",
    "fn_out = f\"{dir_out}{out_name}.csv\"\n",
    "df.to_csv(fn_out, index=False)"
   ]
  },
  {
   "cell_type": "code",
   "execution_count": 26,
   "id": "9ab1fa00",
   "metadata": {},
   "outputs": [
    {
     "name": "stdout",
     "output_type": "stream",
     "text": [
      "Extracting data for scenario ZERO-Basis\n",
      "Extracting data for scenario ZERO-A\n",
      "Extracting data for scenario ZERO-B\n",
      "Extracting data for scenario ZERO-C\n",
      "Extracting data for scenario WWB\n"
     ]
    }
   ],
   "source": [
    "start, end = \"B150\", \"BL168\"\n",
    "out_name = \"04-05-final_energy_consumption_specific_by_sector\"\n",
    "# generation by technology\n",
    "df = extract_data_all_scenarios(\n",
    "    sheet_name=sheet,\n",
    "    fn_excel=fn_excel_synthesis_50,\n",
    "    start_cell=start,\n",
    "    end_cell=end,\n",
    "    name_index=[\"sector\", \"unit\"],\n",
    ").assign(variant=\"KKW50\")\n",
    "\n",
    "fn_out = f\"{dir_out}{out_name}.csv\"\n",
    "df.to_csv(fn_out, index=False)"
   ]
  },
  {
   "cell_type": "code",
   "execution_count": 27,
   "id": "f4b27f63",
   "metadata": {},
   "outputs": [
    {
     "name": "stdout",
     "output_type": "stream",
     "text": [
      "Extracting data for scenario ZERO-Basis\n",
      "Extracting data for scenario ZERO-A\n",
      "Extracting data for scenario ZERO-B\n",
      "Extracting data for scenario ZERO-C\n",
      "Extracting data for scenario WWB\n"
     ]
    }
   ],
   "source": [
    "start, end = \"B175\", \"BL178\"\n",
    "out_name = \"04-05-target_final_energy_consumption_per_capita\"\n",
    "# generation by technology\n",
    "df = extract_data_all_scenarios(\n",
    "    sheet_name=sheet,\n",
    "    fn_excel=fn_excel_synthesis_50,\n",
    "    start_cell=start,\n",
    "    end_cell=end,\n",
    "    name_index=[\"variable\"],\n",
    ").assign(variant=\"KKW50\")\n",
    "\n",
    "fn_out = f\"{dir_out}{out_name}.csv\"\n",
    "df.to_csv(fn_out, index=False)"
   ]
  },
  {
   "cell_type": "code",
   "execution_count": 28,
   "id": "cc207764",
   "metadata": {},
   "outputs": [
    {
     "name": "stdout",
     "output_type": "stream",
     "text": [
      "Extracting data for scenario ZERO-Basis\n",
      "Extracting data for scenario ZERO-A\n",
      "Extracting data for scenario ZERO-B\n",
      "Extracting data for scenario ZERO-C\n",
      "Extracting data for scenario WWB\n"
     ]
    }
   ],
   "source": [
    "start, end = \"B185\", \"BL195\"\n",
    "out_name = \"04-06-final_energy_consumption_renewables\"\n",
    "# generation by technology\n",
    "df = extract_data_all_scenarios(\n",
    "    sheet_name=sheet,\n",
    "    fn_excel=fn_excel_synthesis_50,\n",
    "    start_cell=start,\n",
    "    end_cell=end,\n",
    "    name_index=[\"fuel\"],\n",
    ").assign(variant=\"KKW50\")\n",
    "\n",
    "fn_out = f\"{dir_out}{out_name}.csv\"\n",
    "df.to_csv(fn_out, index=False)"
   ]
  },
  {
   "cell_type": "markdown",
   "id": "8b6f8b32",
   "metadata": {},
   "source": [
    "## Electricity"
   ]
  },
  {
   "cell_type": "code",
   "execution_count": 29,
   "id": "215219c8",
   "metadata": {},
   "outputs": [],
   "source": [
    "sheet = \"05 Elektrizität\""
   ]
  },
  {
   "cell_type": "code",
   "execution_count": 30,
   "id": "68725027",
   "metadata": {},
   "outputs": [
    {
     "name": "stdout",
     "output_type": "stream",
     "text": [
      "Extracting data for scenario ZERO-Basis\n",
      "Extracting data for scenario ZERO-A\n",
      "Extracting data for scenario ZERO-B\n",
      "Extracting data for scenario ZERO-C\n",
      "Extracting data for scenario WWB\n"
     ]
    }
   ],
   "source": [
    "start, end = \"B12\", \"BL24\"\n",
    "out_name = \"05-01-electricity_consumption_by_sector\"\n",
    "# generation by technology\n",
    "df = extract_data_all_scenarios(\n",
    "    sheet_name=sheet,\n",
    "    fn_excel=fn_excel_synthesis_50,\n",
    "    start_cell=start,\n",
    "    end_cell=end,\n",
    "    name_index=[\"sector\"],\n",
    ").assign(variant=\"KKW50\", unit=\"PJ\")\n",
    "\n",
    "fn_out = f\"{dir_out}{out_name}.csv\"\n",
    "df.to_csv(fn_out, index=False)"
   ]
  },
  {
   "cell_type": "code",
   "execution_count": 31,
   "id": "d97168f0",
   "metadata": {},
   "outputs": [
    {
     "name": "stdout",
     "output_type": "stream",
     "text": [
      "Extracting data for scenario ZERO-Basis\n",
      "Extracting data for scenario ZERO-A\n",
      "Extracting data for scenario ZERO-B\n",
      "Extracting data for scenario ZERO-C\n",
      "Extracting data for scenario WWB\n"
     ]
    }
   ],
   "source": [
    "start, end = \"B31\", \"BL42\"\n",
    "out_name = \"05-02-electricity_consumption_by_purpose\"\n",
    "# generation by technology\n",
    "df = extract_data_all_scenarios(\n",
    "    sheet_name=sheet,\n",
    "    fn_excel=fn_excel_synthesis_50,\n",
    "    start_cell=start,\n",
    "    end_cell=end,\n",
    "    name_index=[\"purpose\"],\n",
    ").assign(variant=\"KKW50\", unit=\"PJ\")\n",
    "\n",
    "fn_out = f\"{dir_out}{out_name}.csv\"\n",
    "df.to_csv(fn_out, index=False)"
   ]
  },
  {
   "cell_type": "code",
   "execution_count": 32,
   "id": "20c82744",
   "metadata": {},
   "outputs": [
    {
     "name": "stdout",
     "output_type": "stream",
     "text": [
      "Extracting data for scenario ZERO-Basis\n",
      "Extracting data for scenario ZERO-A\n",
      "Extracting data for scenario ZERO-B\n",
      "Extracting data for scenario ZERO-C\n",
      "Extracting data for scenario WWB\n"
     ]
    }
   ],
   "source": [
    "start, end = \"B49\", \"BL70\"\n",
    "out_name = \"05-03-electricity_consumption_specific_by_sector\"\n",
    "# generation by technology\n",
    "df = extract_data_all_scenarios(\n",
    "    sheet_name=sheet,\n",
    "    fn_excel=fn_excel_synthesis_50,\n",
    "    start_cell=start,\n",
    "    end_cell=end,\n",
    "    name_index=[\"sector\", \"unit\"],\n",
    ").assign(variant=\"KKW50\")\n",
    "\n",
    "fn_out = f\"{dir_out}{out_name}.csv\"\n",
    "df.to_csv(fn_out, index=False)"
   ]
  },
  {
   "cell_type": "code",
   "execution_count": 33,
   "id": "bafb0420",
   "metadata": {},
   "outputs": [
    {
     "name": "stdout",
     "output_type": "stream",
     "text": [
      "Extracting data for scenario ZERO-Basis\n",
      "Extracting data for scenario ZERO-A\n",
      "Extracting data for scenario ZERO-B\n",
      "Extracting data for scenario ZERO-C\n",
      "Extracting data for scenario WWB\n"
     ]
    }
   ],
   "source": [
    "start, end = \"B77\", \"BL80\"\n",
    "out_name = \"05-04-electricity_reduction_targets\"\n",
    "# generation by technology\n",
    "df = extract_data_all_scenarios(\n",
    "    sheet_name=sheet,\n",
    "    fn_excel=fn_excel_synthesis_50,\n",
    "    start_cell=start,\n",
    "    end_cell=end,\n",
    "    name_index=[\"variable\"],\n",
    ").assign(variant=\"KKW50\")\n",
    "\n",
    "fn_out = f\"{dir_out}{out_name}.csv\"\n",
    "df.to_csv(fn_out, index=False)"
   ]
  },
  {
   "cell_type": "markdown",
   "id": "5b1ffd74",
   "metadata": {},
   "source": [
    "## District heating"
   ]
  },
  {
   "cell_type": "code",
   "execution_count": 34,
   "id": "02191dff",
   "metadata": {},
   "outputs": [],
   "source": [
    "sheet = \"06 Fernwärme\""
   ]
  },
  {
   "cell_type": "code",
   "execution_count": 35,
   "id": "5761461a",
   "metadata": {},
   "outputs": [
    {
     "name": "stdout",
     "output_type": "stream",
     "text": [
      "Extracting data for scenario ZERO-Basis\n",
      "Extracting data for scenario ZERO-A\n",
      "Extracting data for scenario ZERO-B\n",
      "Extracting data for scenario ZERO-C\n",
      "Extracting data for scenario WWB\n"
     ]
    }
   ],
   "source": [
    "start, end = \"B12\", \"BL24\"\n",
    "out_name = \"06-01-district_heating_by_sector\"\n",
    "# generation by technology\n",
    "df = extract_data_all_scenarios(\n",
    "    sheet_name=sheet,\n",
    "    fn_excel=fn_excel_synthesis_50,\n",
    "    start_cell=start,\n",
    "    end_cell=end,\n",
    "    name_index=[\"sector\"],\n",
    ").assign(variant=\"KKW50\", unit=\"PJ\")\n",
    "\n",
    "fn_out = f\"{dir_out}{out_name}.csv\"\n",
    "df.to_csv(fn_out, index=False)"
   ]
  },
  {
   "cell_type": "markdown",
   "id": "d3176243",
   "metadata": {},
   "source": [
    "## Renewables"
   ]
  },
  {
   "cell_type": "code",
   "execution_count": 36,
   "id": "20f32b66",
   "metadata": {},
   "outputs": [],
   "source": [
    "sheet = \"07 Erneuerbare Energien\""
   ]
  },
  {
   "cell_type": "code",
   "execution_count": 37,
   "id": "80e68883",
   "metadata": {},
   "outputs": [
    {
     "name": "stdout",
     "output_type": "stream",
     "text": [
      "Extracting data for scenario ZERO-Basis\n",
      "Extracting data for scenario ZERO-A\n",
      "Extracting data for scenario ZERO-B\n",
      "Extracting data for scenario ZERO-C\n",
      "Extracting data for scenario WWB\n"
     ]
    }
   ],
   "source": [
    "start, end = \"B12\", \"BL24\"\n",
    "out_name = \"07-01-renewable_consumption_by_fuel\"\n",
    "# generation by technology\n",
    "df = extract_data_all_scenarios(\n",
    "    sheet_name=sheet,\n",
    "    fn_excel=fn_excel_synthesis_50,\n",
    "    start_cell=start,\n",
    "    end_cell=end,\n",
    "    name_index=[\"fuel\"],\n",
    ").assign(variant=\"KKW50\", fuel=lambda x: x.fuel.str.replace(\"*\", \"\"), unit=\"PJ\")\n",
    "\n",
    "fn_out = f\"{dir_out}{out_name}.csv\"\n",
    "df.to_csv(fn_out, index=False)"
   ]
  },
  {
   "cell_type": "code",
   "execution_count": 38,
   "id": "2511612f",
   "metadata": {},
   "outputs": [
    {
     "name": "stdout",
     "output_type": "stream",
     "text": [
      "Extracting data for scenario ZERO-Basis\n",
      "Extracting data for scenario ZERO-A\n",
      "Extracting data for scenario ZERO-B\n",
      "Extracting data for scenario ZERO-C\n",
      "Extracting data for scenario WWB\n"
     ]
    }
   ],
   "source": [
    "start, end = \"B32\", \"BL44\"\n",
    "out_name = \"07-02-renewable_consumption_by_purpose\"\n",
    "# generation by technology\n",
    "df = extract_data_all_scenarios(\n",
    "    sheet_name=sheet,\n",
    "    fn_excel=fn_excel_synthesis_50,\n",
    "    start_cell=start,\n",
    "    end_cell=end,\n",
    "    name_index=[\"purpose\"],\n",
    ").assign(variant=\"KKW50\", unit=\"PJ\")\n",
    "\n",
    "fn_out = f\"{dir_out}{out_name}.csv\"\n",
    "df.to_csv(fn_out, index=False)"
   ]
  },
  {
   "cell_type": "code",
   "execution_count": 39,
   "id": "f9ec50cc",
   "metadata": {},
   "outputs": [
    {
     "name": "stdout",
     "output_type": "stream",
     "text": [
      "Extracting data for scenario ZERO-Basis\n",
      "Extracting data for scenario ZERO-A\n",
      "Extracting data for scenario ZERO-B\n",
      "Extracting data for scenario ZERO-C\n",
      "Extracting data for scenario WWB\n"
     ]
    }
   ],
   "source": [
    "start, end = \"B51\", \"BL59\"\n",
    "out_name = \"07-03-renewable_consumption_by_sector\"\n",
    "# generation by technology\n",
    "df = extract_data_all_scenarios(\n",
    "    sheet_name=sheet,\n",
    "    fn_excel=fn_excel_synthesis_50,\n",
    "    start_cell=start,\n",
    "    end_cell=end,\n",
    "    name_index=[\"sector\"],\n",
    ").assign(variant=\"KKW50\", unit=\"PJ\")\n",
    "\n",
    "fn_out = f\"{dir_out}{out_name}.csv\"\n",
    "df.to_csv(fn_out, index=False)"
   ]
  },
  {
   "cell_type": "markdown",
   "id": "f395e4a5",
   "metadata": {},
   "source": [
    "## Biomass"
   ]
  },
  {
   "cell_type": "code",
   "execution_count": 40,
   "id": "fbafc6fd",
   "metadata": {},
   "outputs": [],
   "source": [
    "sheet = \"08 Biomasse\""
   ]
  },
  {
   "cell_type": "code",
   "execution_count": 41,
   "id": "83610d4a",
   "metadata": {},
   "outputs": [
    {
     "name": "stdout",
     "output_type": "stream",
     "text": [
      "Extracting data for scenario ZERO-Basis\n",
      "Extracting data for scenario ZERO-A\n",
      "Extracting data for scenario ZERO-B\n",
      "Extracting data for scenario ZERO-C\n",
      "Extracting data for scenario WWB\n"
     ]
    }
   ],
   "source": [
    "start, end = \"B12\", \"BL22\"\n",
    "out_name = \"08-01-biomass_consumption_by_sector\"\n",
    "# generation by technology\n",
    "df = extract_data_all_scenarios(\n",
    "    sheet_name=sheet,\n",
    "    fn_excel=fn_excel_synthesis_50,\n",
    "    start_cell=start,\n",
    "    end_cell=end,\n",
    "    name_index=[\"sector\"],\n",
    ").assign(variant=\"KKW50\", unit=\"PJ\")\n",
    "\n",
    "fn_out = f\"{dir_out}{out_name}.csv\"\n",
    "df.to_csv(fn_out, index=False)"
   ]
  },
  {
   "cell_type": "code",
   "execution_count": 42,
   "id": "7c383620",
   "metadata": {},
   "outputs": [
    {
     "name": "stdout",
     "output_type": "stream",
     "text": [
      "Extracting data for scenario ZERO-Basis\n",
      "Extracting data for scenario ZERO-A\n",
      "Extracting data for scenario ZERO-B\n",
      "Extracting data for scenario ZERO-C\n",
      "Extracting data for scenario WWB\n"
     ]
    }
   ],
   "source": [
    "start, end = \"B29\", \"BL80\"\n",
    "out_name = \"08-02-biomass_consumption_by_sector_and_fuel\"\n",
    "# generation by technology\n",
    "df = extract_data_all_scenarios(\n",
    "    sheet_name=sheet,\n",
    "    fn_excel=fn_excel_synthesis_50,\n",
    "    start_cell=start,\n",
    "    end_cell=end,\n",
    "    name_index=[\"sector_fuel\"],\n",
    ").assign(variant=\"KKW50\", unit=\"PJ\")\n",
    "\n",
    "fn_out = f\"{dir_out}{out_name}.csv\"\n",
    "df.to_csv(fn_out, index=False)"
   ]
  },
  {
   "cell_type": "code",
   "execution_count": 43,
   "id": "89d3d8a4",
   "metadata": {},
   "outputs": [
    {
     "name": "stdout",
     "output_type": "stream",
     "text": [
      "Extracting data for scenario ZERO-Basis\n",
      "Extracting data for scenario ZERO-A\n",
      "Extracting data for scenario ZERO-B\n",
      "Extracting data for scenario ZERO-C\n",
      "Extracting data for scenario WWB\n"
     ]
    }
   ],
   "source": [
    "start, end = \"B91\", \"BL92\"\n",
    "out_name = \"08-03-biomass_share_in_waste\"\n",
    "# generation by technology\n",
    "df = extract_data_all_scenarios(\n",
    "    sheet_name=sheet,\n",
    "    fn_excel=fn_excel_synthesis_50,\n",
    "    start_cell=start,\n",
    "    end_cell=end,\n",
    "    name_index=[\"variable\"],\n",
    ").assign(variant=\"KKW50\", unit=\"%\")\n",
    "\n",
    "fn_out = f\"{dir_out}{out_name}.csv\"\n",
    "df.to_csv(fn_out, index=False)"
   ]
  },
  {
   "cell_type": "markdown",
   "id": "48c3e097",
   "metadata": {},
   "source": [
    "## Gas"
   ]
  },
  {
   "cell_type": "code",
   "execution_count": 44,
   "id": "c31904ce",
   "metadata": {},
   "outputs": [],
   "source": [
    "sheet = \"09 Gas\""
   ]
  },
  {
   "cell_type": "code",
   "execution_count": 45,
   "id": "0a29fb8a",
   "metadata": {},
   "outputs": [
    {
     "name": "stdout",
     "output_type": "stream",
     "text": [
      "Extracting data for scenario ZERO-Basis\n",
      "Extracting data for scenario ZERO-A\n",
      "Extracting data for scenario ZERO-B\n",
      "Extracting data for scenario ZERO-C\n",
      "Extracting data for scenario WWB\n"
     ]
    }
   ],
   "source": [
    "start, end = \"B12\", \"BL16\"\n",
    "out_name = \"09-01-gas_final_consumption_by_fuel\"\n",
    "# generation by technology\n",
    "df = extract_data_all_scenarios(\n",
    "    sheet_name=sheet,\n",
    "    fn_excel=fn_excel_synthesis_50,\n",
    "    start_cell=start,\n",
    "    end_cell=end,\n",
    "    name_index=[\"fuel\"],\n",
    ").assign(variant=\"KKW50\", unit=\"PJ\", fuel=lambda x: x.fuel.str.replace(\"*\", \"\"))\n",
    "\n",
    "fn_out = f\"{dir_out}{out_name}.csv\"\n",
    "df.to_csv(fn_out, index=False)"
   ]
  },
  {
   "cell_type": "code",
   "execution_count": 46,
   "id": "9c078d49",
   "metadata": {},
   "outputs": [
    {
     "name": "stdout",
     "output_type": "stream",
     "text": [
      "Extracting data for scenario ZERO-Basis\n",
      "Extracting data for scenario ZERO-A\n",
      "Extracting data for scenario ZERO-B\n",
      "Extracting data for scenario ZERO-C\n",
      "Extracting data for scenario WWB\n"
     ]
    }
   ],
   "source": [
    "start, end = \"B24\", \"BL61\"\n",
    "out_name = \"09-02-gas_final_consumption_by_sector_fuel\"\n",
    "# generation by technology\n",
    "df = extract_data_all_scenarios(\n",
    "    sheet_name=sheet,\n",
    "    fn_excel=fn_excel_synthesis_50,\n",
    "    start_cell=start,\n",
    "    end_cell=end,\n",
    "    name_index=[\"sector_fuel\"],\n",
    ").assign(variant=\"KKW50\", unit=\"PJ\")\n",
    "\n",
    "fn_out = f\"{dir_out}{out_name}.csv\"\n",
    "df.to_csv(fn_out, index=False)"
   ]
  },
  {
   "cell_type": "code",
   "execution_count": 47,
   "id": "4f55ac02",
   "metadata": {},
   "outputs": [
    {
     "name": "stdout",
     "output_type": "stream",
     "text": [
      "Extracting data for scenario ZERO-Basis\n",
      "Extracting data for scenario ZERO-A\n",
      "Extracting data for scenario ZERO-B\n",
      "Extracting data for scenario ZERO-C\n",
      "Extracting data for scenario WWB\n"
     ]
    }
   ],
   "source": [
    "start, end = \"B72\", \"BL77\"\n",
    "out_name = \"09-03-gas_composition_distribution_grid\"\n",
    "# generation by technology\n",
    "df = extract_data_all_scenarios(\n",
    "    sheet_name=sheet,\n",
    "    fn_excel=fn_excel_synthesis_50,\n",
    "    start_cell=start,\n",
    "    end_cell=end,\n",
    "    name_index=[\"fuel\"],\n",
    ").assign(variant=\"KKW50\", unit=\"PJ\", fuel=lambda x: x.fuel.str.replace(\"*\", \"\"))\n",
    "\n",
    "fn_out = f\"{dir_out}{out_name}.csv\"\n",
    "df.to_csv(fn_out, index=False)"
   ]
  },
  {
   "cell_type": "markdown",
   "id": "898b3fac",
   "metadata": {},
   "source": [
    "## Power-to-X"
   ]
  },
  {
   "cell_type": "code",
   "execution_count": 48,
   "id": "b03dcde2",
   "metadata": {},
   "outputs": [],
   "source": [
    "sheet = \"10 PtX\""
   ]
  },
  {
   "cell_type": "code",
   "execution_count": 49,
   "id": "953b2ea4",
   "metadata": {},
   "outputs": [
    {
     "name": "stdout",
     "output_type": "stream",
     "text": [
      "Extracting data for scenario ZERO-Basis\n",
      "Extracting data for scenario ZERO-A\n",
      "Extracting data for scenario ZERO-B\n",
      "Extracting data for scenario ZERO-C\n",
      "Extracting data for scenario WWB\n"
     ]
    }
   ],
   "source": [
    "start, end = \"B12\", \"BL21\"\n",
    "out_name = \"10-01-power_to_x_by_fuel\"\n",
    "# generation by technology\n",
    "df = extract_data_all_scenarios(\n",
    "    sheet_name=sheet,\n",
    "    fn_excel=fn_excel_synthesis_50,\n",
    "    start_cell=start,\n",
    "    end_cell=end,\n",
    "    name_index=[\"fuel\"],\n",
    ").assign(variant=\"KKW50\", unit=\"PJ\", fuel=lambda x: x.fuel.str.replace(\"*\", \"\"))\n",
    "\n",
    "fn_out = f\"{dir_out}{out_name}.csv\"\n",
    "df.to_csv(fn_out, index=False)"
   ]
  },
  {
   "cell_type": "code",
   "execution_count": 50,
   "id": "934cead4",
   "metadata": {},
   "outputs": [
    {
     "name": "stdout",
     "output_type": "stream",
     "text": [
      "Extracting data for scenario ZERO-Basis\n",
      "Extracting data for scenario ZERO-A\n",
      "Extracting data for scenario ZERO-B\n",
      "Extracting data for scenario ZERO-C\n",
      "Extracting data for scenario WWB\n"
     ]
    }
   ],
   "source": [
    "start, end = \"B28\", \"BL99\"\n",
    "out_name = \"10-02-power_to_x_by_sector_fuel\"\n",
    "# generation by technology\n",
    "df = extract_data_all_scenarios(\n",
    "    sheet_name=sheet,\n",
    "    fn_excel=fn_excel_synthesis_50,\n",
    "    start_cell=start,\n",
    "    end_cell=end,\n",
    "    name_index=[\"sector_fuel\"],\n",
    ").assign(variant=\"KKW50\", unit=\"PJ\")\n",
    "\n",
    "fn_out = f\"{dir_out}{out_name}.csv\"\n",
    "df.to_csv(fn_out, index=False)"
   ]
  },
  {
   "cell_type": "markdown",
   "id": "2474f305",
   "metadata": {},
   "source": [
    "## Heat"
   ]
  },
  {
   "cell_type": "code",
   "execution_count": 51,
   "id": "796f8790",
   "metadata": {},
   "outputs": [],
   "source": [
    "sheet = \"11 Wärme\""
   ]
  },
  {
   "cell_type": "code",
   "execution_count": 52,
   "id": "259262c6",
   "metadata": {},
   "outputs": [
    {
     "name": "stdout",
     "output_type": "stream",
     "text": [
      "Extracting data for scenario ZERO-Basis\n",
      "Extracting data for scenario ZERO-A\n",
      "Extracting data for scenario ZERO-B\n",
      "Extracting data for scenario ZERO-C\n",
      "Extracting data for scenario WWB\n"
     ]
    }
   ],
   "source": [
    "start, end = \"B12\", \"BL31\"\n",
    "out_name = \"11-01-heat_final_consumption_by_fuel\"\n",
    "# generation by technology\n",
    "df = extract_data_all_scenarios(\n",
    "    sheet_name=sheet,\n",
    "    fn_excel=fn_excel_synthesis_50,\n",
    "    start_cell=start,\n",
    "    end_cell=end,\n",
    "    name_index=[\"fuel\"],\n",
    ").assign(variant=\"KKW50\", unit=\"PJ\", fuel=lambda x: x.fuel.str.replace(\"*\", \"\"))\n",
    "\n",
    "fn_out = f\"{dir_out}{out_name}.csv\"\n",
    "df.to_csv(fn_out, index=False)"
   ]
  },
  {
   "cell_type": "code",
   "execution_count": 53,
   "id": "449c6d1c",
   "metadata": {},
   "outputs": [
    {
     "name": "stdout",
     "output_type": "stream",
     "text": [
      "Extracting data for scenario ZERO-B\n",
      "Extracting data for scenario WWB\n",
      "Extracting data for scenario ZERO-Basis\n",
      "Extracting data for scenario ZERO-A\n",
      "Extracting data for scenario ZERO-C\n"
     ]
    }
   ],
   "source": [
    "out_name = \"11-02-heat_final_consumption_by_purpose\"\n",
    "df = pd.concat(\n",
    "    [\n",
    "        extract_data_all_scenarios(\n",
    "            sheet_name=sheet,\n",
    "            fn_excel=fn_excel_synthesis_50,\n",
    "            start_cell=\"B38\",\n",
    "            end_cell=\"BL44\",\n",
    "            name_index=[\"purpose\"],\n",
    "            exclude_scenarios=[\"ZERO-Basis\", \"ZERO-A\", \"ZERO-C\"],\n",
    "        ),\n",
    "        extract_data_all_scenarios(\n",
    "            sheet_name=sheet,\n",
    "            fn_excel=fn_excel_synthesis_50,\n",
    "            start_cell=\"B40\",\n",
    "            end_cell=\"BL46\",\n",
    "            name_index=[\"purpose\"],\n",
    "            exclude_scenarios=[\"WWB\", \"ZERO-B\"],\n",
    "        ),\n",
    "    ]\n",
    ").assign(variant=\"KKW50\", unit=\"PJ\")\n",
    "\n",
    "fn_out = f\"{dir_out}{out_name}.csv\"\n",
    "df.to_csv(fn_out, index=False)"
   ]
  },
  {
   "cell_type": "code",
   "execution_count": 54,
   "id": "ecf8e4ac",
   "metadata": {},
   "outputs": [
    {
     "name": "stdout",
     "output_type": "stream",
     "text": [
      "Extracting data for scenario ZERO-B\n",
      "Extracting data for scenario WWB\n",
      "Extracting data for scenario ZERO-Basis\n",
      "Extracting data for scenario ZERO-A\n",
      "Extracting data for scenario ZERO-C\n"
     ]
    }
   ],
   "source": [
    "out_name = \"11-03-heat_final_consumption_by_sector_purpose\"\n",
    "df = pd.concat(\n",
    "    [\n",
    "        extract_data_all_scenarios(\n",
    "            sheet_name=sheet,\n",
    "            fn_excel=fn_excel_synthesis_50,\n",
    "            start_cell=\"B51\",\n",
    "            end_cell=\"BL76\",\n",
    "            name_index=[\"sector_purpose\"],\n",
    "            exclude_scenarios=[\"ZERO-Basis\", \"ZERO-A\", \"ZERO-C\"],\n",
    "        ),\n",
    "        extract_data_all_scenarios(\n",
    "            sheet_name=sheet,\n",
    "            fn_excel=fn_excel_synthesis_50,\n",
    "            start_cell=\"B55\",\n",
    "            end_cell=\"BL80\",\n",
    "            name_index=[\"sector_purpose\"],\n",
    "            exclude_scenarios=[\"WWB\", \"ZERO-B\"],\n",
    "        ),\n",
    "    ]\n",
    ").assign(variant=\"KKW50\", unit=\"PJ\")\n",
    "\n",
    "fn_out = f\"{dir_out}{out_name}.csv\"\n",
    "df.to_csv(fn_out, index=False)"
   ]
  },
  {
   "cell_type": "markdown",
   "id": "041d3ca5",
   "metadata": {},
   "source": [
    "## Heat pump"
   ]
  },
  {
   "cell_type": "code",
   "execution_count": 55,
   "id": "2e444ca3",
   "metadata": {},
   "outputs": [],
   "source": [
    "sheet = \"12 Wärmepumpen\""
   ]
  },
  {
   "cell_type": "code",
   "execution_count": 56,
   "id": "77b92576",
   "metadata": {},
   "outputs": [
    {
     "name": "stdout",
     "output_type": "stream",
     "text": [
      "Extracting data for scenario ZERO-Basis\n",
      "Extracting data for scenario ZERO-A\n",
      "Extracting data for scenario ZERO-B\n",
      "Extracting data for scenario ZERO-C\n",
      "Extracting data for scenario WWB\n"
     ]
    }
   ],
   "source": [
    "start, end = \"B12\", \"BL29\"\n",
    "out_name = \"12-01-heat_pump_electricity_consumption_by_sector\"\n",
    "# generation by technology\n",
    "df = extract_data_all_scenarios(\n",
    "    sheet_name=sheet,\n",
    "    fn_excel=fn_excel_synthesis_50,\n",
    "    start_cell=start,\n",
    "    end_cell=end,\n",
    "    name_index=[\"sector\"],\n",
    ").assign(variant=\"KKW50\", unit=\"PJ\")\n",
    "\n",
    "fn_out = f\"{dir_out}{out_name}.csv\"\n",
    "df.to_csv(fn_out, index=False)"
   ]
  },
  {
   "cell_type": "markdown",
   "id": "4d198cf0",
   "metadata": {},
   "source": [
    "## Households"
   ]
  },
  {
   "cell_type": "code",
   "execution_count": 57,
   "id": "c6fbd037",
   "metadata": {},
   "outputs": [],
   "source": [
    "sheet = \"13 Private Haushalte\""
   ]
  },
  {
   "cell_type": "code",
   "execution_count": 58,
   "id": "f4106d7c",
   "metadata": {},
   "outputs": [
    {
     "name": "stdout",
     "output_type": "stream",
     "text": [
      "Extracting data for scenario ZERO-Basis\n",
      "Extracting data for scenario ZERO-A\n",
      "Extracting data for scenario ZERO-B\n",
      "Extracting data for scenario ZERO-C\n",
      "Extracting data for scenario WWB\n"
     ]
    }
   ],
   "source": [
    "start, end = \"B12\", \"BL31\"\n",
    "out_name = \"13-01-final_energy_consumption_household_by_fuel\"\n",
    "# generation by technology\n",
    "df = extract_data_all_scenarios(\n",
    "    sheet_name=sheet,\n",
    "    fn_excel=fn_excel_synthesis_50,\n",
    "    start_cell=start,\n",
    "    end_cell=end,\n",
    "    name_index=[\"fuel\"],\n",
    ").assign(variant=\"KKW50\", unit=\"PJ\")\n",
    "\n",
    "fn_out = f\"{dir_out}{out_name}.csv\"\n",
    "df.to_csv(fn_out, index=False)"
   ]
  },
  {
   "cell_type": "code",
   "execution_count": 59,
   "id": "5aa362f8",
   "metadata": {},
   "outputs": [
    {
     "name": "stdout",
     "output_type": "stream",
     "text": [
      "Extracting data for scenario ZERO-A\n",
      "Extracting data for scenario ZERO-C\n",
      "Extracting data for scenario WWB\n",
      "Extracting data for scenario ZERO-Basis\n",
      "Extracting data for scenario ZERO-B\n"
     ]
    }
   ],
   "source": [
    "out_name = \"13-02-final_energy_consumption_household_by_purpose\"\n",
    "df = pd.concat(\n",
    "    [\n",
    "        extract_data_all_scenarios(\n",
    "            sheet_name=sheet,\n",
    "            fn_excel=fn_excel_synthesis_50,\n",
    "            start_cell=\"B38\",\n",
    "            end_cell=\"BL47\",\n",
    "            name_index=[\"purpose\"],\n",
    "            exclude_scenarios=[\"ZERO-Basis\", \"ZERO-B\"],\n",
    "        ),\n",
    "        extract_data_all_scenarios(\n",
    "            sheet_name=sheet,\n",
    "            fn_excel=fn_excel_synthesis_50,\n",
    "            start_cell=\"B40\",\n",
    "            end_cell=\"BL49\",\n",
    "            name_index=[\"purpose\"],\n",
    "            exclude_scenarios=[\"ZERO-C\", \"ZERO-A\", \"WWB\"],\n",
    "        ),\n",
    "    ]\n",
    ").assign(variant=\"KKW50\", unit=\"PJ\")\n",
    "\n",
    "fn_out = f\"{dir_out}{out_name}.csv\"\n",
    "df.to_csv(fn_out, index=False)"
   ]
  },
  {
   "cell_type": "code",
   "execution_count": 60,
   "id": "dd8f356c",
   "metadata": {},
   "outputs": [
    {
     "name": "stdout",
     "output_type": "stream",
     "text": [
      "Extracting data for scenario ZERO-A\n",
      "Extracting data for scenario ZERO-C\n",
      "Extracting data for scenario WWB\n",
      "Extracting data for scenario ZERO-Basis\n",
      "Extracting data for scenario ZERO-B\n"
     ]
    }
   ],
   "source": [
    "out_name = \"13-03-final_electricity_consumption_household_by_purpose\"\n",
    "df = pd.concat(\n",
    "    [\n",
    "        extract_data_all_scenarios(\n",
    "            sheet_name=sheet,\n",
    "            fn_excel=fn_excel_synthesis_50,\n",
    "            start_cell=\"B55\",\n",
    "            end_cell=\"BL64\",\n",
    "            name_index=[\"purpose\"],\n",
    "            exclude_scenarios=[\"ZERO-Basis\", \"ZERO-B\"],\n",
    "        ),\n",
    "        extract_data_all_scenarios(\n",
    "            sheet_name=sheet,\n",
    "            fn_excel=fn_excel_synthesis_50,\n",
    "            start_cell=\"B57\",\n",
    "            end_cell=\"BL66\",\n",
    "            name_index=[\"purpose\"],\n",
    "            exclude_scenarios=[\"ZERO-C\", \"ZERO-A\", \"WWB\"],\n",
    "        ),\n",
    "    ]\n",
    ").assign(variant=\"KKW50\", unit=\"PJ\")\n",
    "\n",
    "fn_out = f\"{dir_out}{out_name}.csv\"\n",
    "df.to_csv(fn_out, index=False)"
   ]
  },
  {
   "cell_type": "markdown",
   "id": "270ce3a5",
   "metadata": {},
   "source": [
    "## Services"
   ]
  },
  {
   "cell_type": "code",
   "execution_count": 61,
   "id": "32677708",
   "metadata": {},
   "outputs": [],
   "source": [
    "sheet = \"14 Diensleistungen\""
   ]
  },
  {
   "cell_type": "code",
   "execution_count": 62,
   "id": "44cb879e",
   "metadata": {},
   "outputs": [
    {
     "name": "stdout",
     "output_type": "stream",
     "text": [
      "Extracting data for scenario ZERO-Basis\n",
      "Extracting data for scenario ZERO-A\n",
      "Extracting data for scenario ZERO-B\n",
      "Extracting data for scenario ZERO-C\n",
      "Extracting data for scenario WWB\n"
     ]
    }
   ],
   "source": [
    "start, end = \"B12\", \"BL31\"\n",
    "out_name = \"14-01-final_energy_consumption_services_by_fuel\"\n",
    "# generation by technology\n",
    "df = extract_data_all_scenarios(\n",
    "    sheet_name=sheet,\n",
    "    fn_excel=fn_excel_synthesis_50,\n",
    "    start_cell=start,\n",
    "    end_cell=end,\n",
    "    name_index=[\"fuel\"],\n",
    ").assign(variant=\"KKW50\", unit=\"PJ\")\n",
    "\n",
    "fn_out = f\"{dir_out}{out_name}.csv\"\n",
    "df.to_csv(fn_out, index=False)"
   ]
  },
  {
   "cell_type": "code",
   "execution_count": 63,
   "id": "5a8961d7",
   "metadata": {},
   "outputs": [
    {
     "name": "stdout",
     "output_type": "stream",
     "text": [
      "Extracting data for scenario ZERO-B\n",
      "Extracting data for scenario ZERO-C\n",
      "Extracting data for scenario WWB\n",
      "Extracting data for scenario ZERO-Basis\n",
      "Extracting data for scenario ZERO-A\n"
     ]
    }
   ],
   "source": [
    "out_name = \"14-02-final_energy_consumption_services_by_purpose\"\n",
    "df = pd.concat(\n",
    "    [\n",
    "        extract_data_all_scenarios(\n",
    "            sheet_name=sheet,\n",
    "            fn_excel=fn_excel_synthesis_50,\n",
    "            start_cell=\"B38\",\n",
    "            end_cell=\"BL47\",\n",
    "            name_index=[\"purpose\"],\n",
    "            exclude_scenarios=[\n",
    "                \"ZERO-Basis\",\n",
    "                \"ZERO-A\",\n",
    "            ],\n",
    "        ),\n",
    "        extract_data_all_scenarios(\n",
    "            sheet_name=sheet,\n",
    "            fn_excel=fn_excel_synthesis_50,\n",
    "            start_cell=\"B40\",\n",
    "            end_cell=\"BL49\",\n",
    "            name_index=[\"purpose\"],\n",
    "            exclude_scenarios=[\"ZERO-C\", \"WWB\", \"ZERO-B\"],\n",
    "        ),\n",
    "    ]\n",
    ").assign(variant=\"KKW50\", unit=\"PJ\")\n",
    "\n",
    "fn_out = f\"{dir_out}{out_name}.csv\"\n",
    "df.to_csv(fn_out, index=False)"
   ]
  },
  {
   "cell_type": "code",
   "execution_count": 64,
   "id": "32690f82",
   "metadata": {},
   "outputs": [
    {
     "name": "stdout",
     "output_type": "stream",
     "text": [
      "Extracting data for scenario ZERO-B\n",
      "Extracting data for scenario ZERO-C\n",
      "Extracting data for scenario WWB\n",
      "Extracting data for scenario ZERO-Basis\n",
      "Extracting data for scenario ZERO-A\n"
     ]
    }
   ],
   "source": [
    "out_name = \"14-03-final_electricity_consumption_services_by_purpose\"\n",
    "df = pd.concat(\n",
    "    [\n",
    "        extract_data_all_scenarios(\n",
    "            sheet_name=sheet,\n",
    "            fn_excel=fn_excel_synthesis_50,\n",
    "            start_cell=\"B54\",\n",
    "            end_cell=\"BL63\",\n",
    "            name_index=[\"purpose\"],\n",
    "            exclude_scenarios=[\n",
    "                \"ZERO-Basis\",\n",
    "                \"ZERO-A\",\n",
    "            ],\n",
    "        ),\n",
    "        extract_data_all_scenarios(\n",
    "            sheet_name=sheet,\n",
    "            fn_excel=fn_excel_synthesis_50,\n",
    "            start_cell=\"B56\",\n",
    "            end_cell=\"BL65\",\n",
    "            name_index=[\"purpose\"],\n",
    "            exclude_scenarios=[\"ZERO-C\", \"WWB\", \"ZERO-B\"],\n",
    "        ),\n",
    "    ]\n",
    ").assign(variant=\"KKW50\", unit=\"PJ\")\n",
    "\n",
    "fn_out = f\"{dir_out}{out_name}.csv\"\n",
    "df.to_csv(fn_out, index=False)"
   ]
  },
  {
   "cell_type": "code",
   "execution_count": 65,
   "id": "3b943aba",
   "metadata": {},
   "outputs": [
    {
     "name": "stdout",
     "output_type": "stream",
     "text": [
      "Extracting data for scenario ZERO-B\n",
      "Extracting data for scenario ZERO-C\n",
      "Extracting data for scenario WWB\n",
      "Extracting data for scenario ZERO-Basis\n",
      "Extracting data for scenario ZERO-A\n"
     ]
    }
   ],
   "source": [
    "out_name = \"14-04-final_energy_consumption_services_by_sector\"\n",
    "df = pd.concat(\n",
    "    [\n",
    "        extract_data_all_scenarios(\n",
    "            sheet_name=sheet,\n",
    "            fn_excel=fn_excel_synthesis_50,\n",
    "            start_cell=\"B70\",\n",
    "            end_cell=\"BL79\",\n",
    "            name_index=[\"noga\", \"sector\"],\n",
    "            exclude_scenarios=[\n",
    "                \"ZERO-Basis\",\n",
    "                \"ZERO-A\",\n",
    "            ],\n",
    "        ),\n",
    "        extract_data_all_scenarios(\n",
    "            sheet_name=sheet,\n",
    "            fn_excel=fn_excel_synthesis_50,\n",
    "            start_cell=\"B72\",\n",
    "            end_cell=\"BL81\",\n",
    "            name_index=[\"noga\", \"sector\"],\n",
    "            exclude_scenarios=[\"ZERO-C\", \"WWB\", \"ZERO-B\"],\n",
    "        ),\n",
    "    ]\n",
    ").assign(variant=\"KKW50\", unit=\"PJ\")\n",
    "\n",
    "fn_out = f\"{dir_out}{out_name}.csv\"\n",
    "df.to_csv(fn_out, index=False)"
   ]
  },
  {
   "cell_type": "code",
   "execution_count": 66,
   "id": "6b1a5c71",
   "metadata": {},
   "outputs": [
    {
     "name": "stdout",
     "output_type": "stream",
     "text": [
      "Extracting data for scenario ZERO-B\n",
      "Extracting data for scenario ZERO-C\n",
      "Extracting data for scenario ZERO-Basis\n",
      "Extracting data for scenario ZERO-A\n"
     ]
    }
   ],
   "source": [
    "out_name = \"14-05-final_electricity_consumption_services_by_sector\"\n",
    "df = pd.concat(\n",
    "    [\n",
    "        extract_data_all_scenarios(\n",
    "            sheet_name=sheet,\n",
    "            fn_excel=fn_excel_synthesis_50,\n",
    "            start_cell=\"B86\",\n",
    "            end_cell=\"BL95\",\n",
    "            name_index=[\"noga\", \"sector\"],\n",
    "            exclude_scenarios=[\n",
    "                \"ZERO-Basis\",\n",
    "                \"ZERO-A\",\n",
    "                \"WWB\"\n",
    "            ],\n",
    "        ),\n",
    "        extract_data_all_scenarios(\n",
    "            sheet_name=sheet,\n",
    "            fn_excel=fn_excel_synthesis_50,\n",
    "            start_cell=\"B88\",\n",
    "            end_cell=\"BL97\",\n",
    "            name_index=[\"noga\", \"sector\"],\n",
    "            exclude_scenarios=[\"ZERO-C\", \"WWB\", \"ZERO-B\"],\n",
    "        ),\n",
    "    ]\n",
    ").assign(variant=\"KKW50\", unit=\"PJ\")\n",
    "\n",
    "fn_out = f\"{dir_out}{out_name}.csv\"\n",
    "df.to_csv(fn_out, index=False)"
   ]
  },
  {
   "cell_type": "markdown",
   "id": "a5c62293",
   "metadata": {},
   "source": [
    "## Industry"
   ]
  },
  {
   "cell_type": "code",
   "execution_count": 67,
   "id": "0ae0bf17",
   "metadata": {},
   "outputs": [],
   "source": [
    "sheet = \"15 Industrie\""
   ]
  },
  {
   "cell_type": "code",
   "execution_count": 68,
   "id": "35a45a9d",
   "metadata": {},
   "outputs": [
    {
     "name": "stdout",
     "output_type": "stream",
     "text": [
      "Extracting data for scenario ZERO-Basis\n",
      "Extracting data for scenario ZERO-A\n",
      "Extracting data for scenario ZERO-B\n",
      "Extracting data for scenario ZERO-C\n",
      "Extracting data for scenario WWB\n"
     ]
    }
   ],
   "source": [
    "start, end = \"B12\", \"BL31\"\n",
    "out_name = \"15-01-final_energy_consumption_industry_by_fuel\"\n",
    "# generation by technology\n",
    "df = extract_data_all_scenarios(\n",
    "    sheet_name=sheet,\n",
    "    fn_excel=fn_excel_synthesis_50,\n",
    "    start_cell=start,\n",
    "    end_cell=end,\n",
    "    name_index=[\"fuel\"],\n",
    ").assign(variant=\"KKW50\", unit=\"PJ\")\n",
    "\n",
    "fn_out = f\"{dir_out}{out_name}.csv\"\n",
    "df.to_csv(fn_out, index=False)"
   ]
  },
  {
   "cell_type": "code",
   "execution_count": 69,
   "id": "76512531",
   "metadata": {},
   "outputs": [
    {
     "name": "stdout",
     "output_type": "stream",
     "text": [
      "Extracting data for scenario WWB\n",
      "Extracting data for scenario ZERO-Basis\n",
      "Extracting data for scenario ZERO-A\n",
      "Extracting data for scenario ZERO-B\n",
      "Extracting data for scenario ZERO-C\n"
     ]
    }
   ],
   "source": [
    "out_name = \"15-02-final_energy_consumption_industry_by_purpose\"\n",
    "# generation by technology\n",
    "df = pd.concat(\n",
    "    [\n",
    "        extract_data_all_scenarios(\n",
    "            sheet_name=sheet,\n",
    "            fn_excel=fn_excel_synthesis_50,\n",
    "            start_cell=\"B38\",\n",
    "            end_cell=\"BL47\",\n",
    "            name_index=[\"purpose\"],\n",
    "            exclude_scenarios=[\"ZERO-Basis\", \"ZERO-A\", \"ZERO-B\", \"ZERO-C\"],\n",
    "        ),\n",
    "        extract_data_all_scenarios(\n",
    "            sheet_name=sheet,\n",
    "            fn_excel=fn_excel_synthesis_50,\n",
    "            start_cell=\"B40\",\n",
    "            end_cell=\"BL49\",\n",
    "            name_index=[\"purpose\"],\n",
    "            exclude_scenarios=[\"WWB\"],\n",
    "        ),\n",
    "    ]\n",
    ").assign(variant=\"KKW50\", unit=\"PJ\")\n",
    "\n",
    "fn_out = f\"{dir_out}{out_name}.csv\"\n",
    "df.to_csv(fn_out, index=False)"
   ]
  },
  {
   "cell_type": "code",
   "execution_count": 70,
   "id": "d6a623a7",
   "metadata": {},
   "outputs": [
    {
     "name": "stdout",
     "output_type": "stream",
     "text": [
      "Extracting data for scenario WWB\n",
      "Extracting data for scenario ZERO-Basis\n",
      "Extracting data for scenario ZERO-A\n",
      "Extracting data for scenario ZERO-B\n",
      "Extracting data for scenario ZERO-C\n"
     ]
    }
   ],
   "source": [
    "out_name = \"15-03-final_electricity_consumption_industry_by_purpose\"\n",
    "# generation by technology\n",
    "df = pd.concat(\n",
    "    [\n",
    "        extract_data_all_scenarios(\n",
    "            sheet_name=sheet,\n",
    "            fn_excel=fn_excel_synthesis_50,\n",
    "            start_cell=\"B55\",\n",
    "            end_cell=\"BL64\",\n",
    "            name_index=[\"purpose\"],\n",
    "            exclude_scenarios=[\"ZERO-Basis\", \"ZERO-A\", \"ZERO-B\", \"ZERO-C\"],\n",
    "        ),\n",
    "        extract_data_all_scenarios(\n",
    "            sheet_name=sheet,\n",
    "            fn_excel=fn_excel_synthesis_50,\n",
    "            start_cell=\"B57\",\n",
    "            end_cell=\"BL66\",\n",
    "            name_index=[\"purpose\"],\n",
    "            exclude_scenarios=[\"WWB\"],\n",
    "        ),\n",
    "    ]\n",
    ").assign(variant=\"KKW50\", unit=\"PJ\")\n",
    "\n",
    "fn_out = f\"{dir_out}{out_name}.csv\"\n",
    "df.to_csv(fn_out, index=False)"
   ]
  },
  {
   "cell_type": "code",
   "execution_count": 71,
   "id": "8f9a7236",
   "metadata": {},
   "outputs": [
    {
     "name": "stdout",
     "output_type": "stream",
     "text": [
      "Extracting data for scenario WWB\n",
      "Extracting data for scenario ZERO-Basis\n",
      "Extracting data for scenario ZERO-A\n",
      "Extracting data for scenario ZERO-B\n",
      "Extracting data for scenario ZERO-C\n"
     ]
    }
   ],
   "source": [
    "out_name = \"15-04-final_energy_consumption_industry_by_noga\"\n",
    "# generation by technology\n",
    "df = pd.concat(\n",
    "    [\n",
    "        extract_data_all_scenarios(\n",
    "            sheet_name=sheet,\n",
    "            fn_excel=fn_excel_synthesis_50,\n",
    "            start_cell=\"B72\",\n",
    "            end_cell=\"BL87\",\n",
    "            name_index=[\"noga\", \"sector\"],\n",
    "            exclude_scenarios=[\"ZERO-Basis\", \"ZERO-A\", \"ZERO-C\", \"ZERO-B\"],\n",
    "        ),\n",
    "        extract_data_all_scenarios(\n",
    "            sheet_name=sheet,\n",
    "            fn_excel=fn_excel_synthesis_50,\n",
    "            start_cell=\"B74\",\n",
    "            end_cell=\"BL89\",\n",
    "            name_index=[\"noga\", \"sector\"],\n",
    "            exclude_scenarios=[\n",
    "                \"WWB\"\n",
    "            ],\n",
    "        ),\n",
    "    ]\n",
    ").assign(variant=\"KKW50\", unit=\"PJ\")\n",
    "\n",
    "fn_out = f\"{dir_out}{out_name}.csv\"\n",
    "df.to_csv(fn_out, index=False)"
   ]
  },
  {
   "cell_type": "code",
   "execution_count": 72,
   "id": "f72824d4",
   "metadata": {},
   "outputs": [
    {
     "name": "stdout",
     "output_type": "stream",
     "text": [
      "Extracting data for scenario ZERO-B\n",
      "Extracting data for scenario WWB\n",
      "Extracting data for scenario ZERO-Basis\n",
      "Extracting data for scenario ZERO-A\n",
      "Extracting data for scenario ZERO-C\n"
     ]
    }
   ],
   "source": [
    "out_name = \"15-05-final_energy_consumption_industry_by_process_heat\"\n",
    "df = pd.concat(\n",
    "    [\n",
    "        extract_data_all_scenarios(\n",
    "            sheet_name=sheet,\n",
    "            fn_excel=fn_excel_synthesis_50,\n",
    "            start_cell=\"B95\",\n",
    "            end_cell=\"BL105\",\n",
    "            name_index=[\"temperature\"],\n",
    "            exclude_scenarios=[\"ZERO-Basis\", \"ZERO-A\", \"ZERO-C\"],\n",
    "        ),\n",
    "        extract_data_all_scenarios(\n",
    "            sheet_name=sheet,\n",
    "            fn_excel=fn_excel_synthesis_50,\n",
    "            start_cell=\"B97\",\n",
    "            end_cell=\"BL107\",\n",
    "            name_index=[\"temperature\"],\n",
    "            exclude_scenarios=[\"WWB\", \"ZERO-B\", \"ZERO-C\"],\n",
    "        ),\n",
    "        extract_data_all_scenarios(\n",
    "            sheet_name=sheet,\n",
    "            fn_excel=fn_excel_synthesis_50,\n",
    "            start_cell=\"B96\",\n",
    "            end_cell=\"BL106\",\n",
    "            name_index=[\"temperature\"],\n",
    "            exclude_scenarios=[\n",
    "                \"WWB\",\n",
    "                \"ZERO-B\",\n",
    "                \"ZERO-Basis\",\n",
    "                \"ZERO-A\",\n",
    "            ],\n",
    "        ),\n",
    "    ]\n",
    ").assign(variant=\"KKW50\", unit=\"PJ\")\n",
    "\n",
    "fn_out = f\"{dir_out}{out_name}.csv\"\n",
    "df.to_csv(fn_out, index=False)"
   ]
  },
  {
   "cell_type": "code",
   "execution_count": 73,
   "id": "08e0dfd3",
   "metadata": {},
   "outputs": [
    {
     "name": "stdout",
     "output_type": "stream",
     "text": [
      "Extracting data for scenario ZERO-B\n",
      "Extracting data for scenario WWB\n",
      "Extracting data for scenario ZERO-Basis\n",
      "Extracting data for scenario ZERO-A\n",
      "Extracting data for scenario ZERO-C\n"
     ]
    }
   ],
   "source": [
    "out_name = \"15-06-final_electricity_consumption_industry_by_noga\"\n",
    "# ZERO-C has missing data here\n",
    "df = pd.concat(\n",
    "    [\n",
    "        extract_data_all_scenarios(\n",
    "            sheet_name=sheet,\n",
    "            fn_excel=fn_excel_synthesis_50,\n",
    "            start_cell=\"B111\",\n",
    "            end_cell=\"BL125\",\n",
    "            name_index=[\"noga\", \"sector\"],\n",
    "            exclude_scenarios=[\"ZERO-Basis\", \"ZERO-A\", \"ZERO-C\"],\n",
    "        ),\n",
    "        extract_data_all_scenarios(\n",
    "            sheet_name=sheet,\n",
    "            fn_excel=fn_excel_synthesis_50,\n",
    "            start_cell=\"B114\",\n",
    "            end_cell=\"BL128\",\n",
    "            name_index=[\"noga\", \"sector\"],\n",
    "            exclude_scenarios=[\"WWB\", \"ZERO-B\", \"ZERO-C\"],\n",
    "        ),\n",
    "        extract_data_all_scenarios(\n",
    "            sheet_name=sheet,\n",
    "            fn_excel=fn_excel_synthesis_50,\n",
    "            start_cell=\"B113\",\n",
    "            end_cell=\"BL127\",\n",
    "            name_index=[\"noga\", \"sector\"],\n",
    "            exclude_scenarios=[\n",
    "                \"WWB\",\n",
    "                \"ZERO-B\",\n",
    "                \"ZERO-Basis\",\n",
    "                \"ZERO-A\",\n",
    "            ],\n",
    "        ),\n",
    "    ]\n",
    ").assign(variant=\"KKW50\", unit=\"PJ\")\n",
    "\n",
    "fn_out = f\"{dir_out}{out_name}.csv\"\n",
    "df.to_csv(fn_out, index=False)"
   ]
  },
  {
   "cell_type": "markdown",
   "id": "5f2c4da1",
   "metadata": {},
   "source": [
    "## Transport"
   ]
  },
  {
   "cell_type": "code",
   "execution_count": 74,
   "id": "bb5dd2de",
   "metadata": {},
   "outputs": [],
   "source": [
    "sheet = \"16 Verkehr\""
   ]
  },
  {
   "cell_type": "code",
   "execution_count": 75,
   "id": "53a81e55",
   "metadata": {},
   "outputs": [
    {
     "name": "stdout",
     "output_type": "stream",
     "text": [
      "Extracting data for scenario ZERO-Basis\n",
      "Extracting data for scenario ZERO-A\n",
      "Extracting data for scenario ZERO-B\n",
      "Extracting data for scenario ZERO-C\n",
      "Extracting data for scenario WWB\n"
     ]
    }
   ],
   "source": [
    "start, end = \"B12\", \"BL33\"\n",
    "out_name = \"16-01-final_energy_consumption_transport_by_fuel\"\n",
    "# generation by technology\n",
    "df = extract_data_all_scenarios(\n",
    "    sheet_name=sheet,\n",
    "    fn_excel=fn_excel_synthesis_50,\n",
    "    start_cell=start,\n",
    "    end_cell=end,\n",
    "    name_index=[\"fuel\"],\n",
    ").assign(variant=\"KKW50\", unit=\"PJ\")\n",
    "\n",
    "fn_out = f\"{dir_out}{out_name}.csv\"\n",
    "df.to_csv(fn_out, index=False)"
   ]
  },
  {
   "cell_type": "code",
   "execution_count": 76,
   "id": "2ca9ccea",
   "metadata": {},
   "outputs": [
    {
     "name": "stdout",
     "output_type": "stream",
     "text": [
      "Extracting data for scenario ZERO-Basis\n",
      "Extracting data for scenario ZERO-A\n",
      "Extracting data for scenario ZERO-B\n",
      "Extracting data for scenario ZERO-C\n",
      "Extracting data for scenario WWB\n"
     ]
    }
   ],
   "source": [
    "start, end = \"B40\", \"BL44\"\n",
    "out_name = \"16-02-final_energy_consumption_aviation_by_fuel\"\n",
    "# generation by technology\n",
    "df = extract_data_all_scenarios(\n",
    "    sheet_name=sheet,\n",
    "    fn_excel=fn_excel_synthesis_50,\n",
    "    start_cell=start,\n",
    "    end_cell=end,\n",
    "    name_index=[\"fuel\"],\n",
    ").assign(variant=\"KKW50\", unit=\"PJ\")\n",
    "\n",
    "fn_out = f\"{dir_out}{out_name}.csv\"\n",
    "df.to_csv(fn_out, index=False)"
   ]
  },
  {
   "cell_type": "code",
   "execution_count": 77,
   "id": "ada71a88",
   "metadata": {},
   "outputs": [
    {
     "name": "stdout",
     "output_type": "stream",
     "text": [
      "Extracting data for scenario ZERO-Basis\n",
      "Extracting data for scenario ZERO-A\n",
      "Extracting data for scenario ZERO-B\n",
      "Extracting data for scenario ZERO-C\n",
      "Extracting data for scenario WWB\n"
     ]
    }
   ],
   "source": [
    "start, end = \"B51\", \"BL79\"\n",
    "out_name = \"16-03-final_energy_consumption_transport_by_mode\"\n",
    "# generation by technology\n",
    "df = extract_data_all_scenarios(\n",
    "    sheet_name=sheet,\n",
    "    fn_excel=fn_excel_synthesis_50,\n",
    "    start_cell=start,\n",
    "    end_cell=end,\n",
    "    name_index=[\"mode\"],\n",
    ").assign(variant=\"KKW50\", unit=\"PJ\")\n",
    "\n",
    "fn_out = f\"{dir_out}{out_name}.csv\"\n",
    "df.to_csv(fn_out, index=False)"
   ]
  },
  {
   "cell_type": "code",
   "execution_count": 78,
   "id": "1f01adb0",
   "metadata": {},
   "outputs": [
    {
     "name": "stdout",
     "output_type": "stream",
     "text": [
      "Extracting data for scenario ZERO-Basis\n",
      "Extracting data for scenario ZERO-A\n",
      "Extracting data for scenario ZERO-B\n",
      "Extracting data for scenario ZERO-C\n",
      "Extracting data for scenario WWB\n"
     ]
    }
   ],
   "source": [
    "start, end = \"B86\", \"BL104\"\n",
    "out_name = \"16-04-final_electricity_consumption_transport_by_mode\"\n",
    "# generation by technology\n",
    "df = extract_data_all_scenarios(\n",
    "    sheet_name=sheet,\n",
    "    fn_excel=fn_excel_synthesis_50,\n",
    "    start_cell=start,\n",
    "    end_cell=end,\n",
    "    name_index=[\"mode\"],\n",
    ").assign(variant=\"KKW50\", unit=\"PJ\")\n",
    "\n",
    "fn_out = f\"{dir_out}{out_name}.csv\"\n",
    "df.to_csv(fn_out, index=False)"
   ]
  },
  {
   "cell_type": "code",
   "execution_count": 79,
   "id": "443dc396",
   "metadata": {},
   "outputs": [
    {
     "name": "stdout",
     "output_type": "stream",
     "text": [
      "Extracting data for scenario ZERO-Basis\n",
      "Extracting data for scenario ZERO-A\n",
      "Extracting data for scenario ZERO-B\n",
      "Extracting data for scenario ZERO-C\n",
      "Extracting data for scenario WWB\n"
     ]
    }
   ],
   "source": [
    "start, end = \"B111\", \"BL128\"\n",
    "out_name = \"16-05-final_energy_consumption_road_transport_by_fuel\"\n",
    "# generation by technology\n",
    "df = extract_data_all_scenarios(\n",
    "    sheet_name=sheet,\n",
    "    fn_excel=fn_excel_synthesis_50,\n",
    "    start_cell=start,\n",
    "    end_cell=end,\n",
    "    name_index=[\"mode\"],\n",
    ").assign(variant=\"KKW50\", unit=\"PJ\")\n",
    "\n",
    "fn_out = f\"{dir_out}{out_name}.csv\"\n",
    "df.to_csv(fn_out, index=False)"
   ]
  },
  {
   "cell_type": "code",
   "execution_count": 80,
   "id": "90e42e3b",
   "metadata": {},
   "outputs": [
    {
     "name": "stdout",
     "output_type": "stream",
     "text": [
      "Extracting data for scenario ZERO-Basis\n",
      "Extracting data for scenario ZERO-A\n",
      "Extracting data for scenario ZERO-B\n",
      "Extracting data for scenario ZERO-C\n",
      "Extracting data for scenario WWB\n"
     ]
    }
   ],
   "source": [
    "start, end = \"B135\", \"BL147\"\n",
    "out_name = \"16-06-final_energy_consumption_public_individual_transport\"\n",
    "# generation by technology\n",
    "df = extract_data_all_scenarios(\n",
    "    sheet_name=sheet,\n",
    "    fn_excel=fn_excel_synthesis_50,\n",
    "    start_cell=start,\n",
    "    end_cell=end,\n",
    "    name_index=[\"mode\"],\n",
    ").assign(variant=\"KKW50\", unit=\"PJ\")\n",
    "\n",
    "fn_out = f\"{dir_out}{out_name}.csv\"\n",
    "df.to_csv(fn_out, index=False)"
   ]
  },
  {
   "cell_type": "markdown",
   "id": "c93c23fc",
   "metadata": {},
   "source": [
    "## Agriculture"
   ]
  },
  {
   "cell_type": "code",
   "execution_count": 81,
   "id": "3e3cc7ef",
   "metadata": {},
   "outputs": [],
   "source": [
    "sheet = \"17 Landwirtschaft\""
   ]
  },
  {
   "cell_type": "code",
   "execution_count": 82,
   "id": "9fb47ef7",
   "metadata": {},
   "outputs": [
    {
     "name": "stdout",
     "output_type": "stream",
     "text": [
      "Extracting data for scenario ZERO-Basis\n",
      "Extracting data for scenario ZERO-A\n",
      "Extracting data for scenario ZERO-B\n",
      "Extracting data for scenario ZERO-C\n",
      "Extracting data for scenario WWB\n"
     ]
    }
   ],
   "source": [
    "start, end = \"B12\", \"BL31\"\n",
    "out_name = \"17-01-final_energy_consumption_agriculture_by_fuel\"\n",
    "# generation by technology\n",
    "df = extract_data_all_scenarios(\n",
    "    sheet_name=sheet,\n",
    "    fn_excel=fn_excel_synthesis_50,\n",
    "    start_cell=start,\n",
    "    end_cell=end,\n",
    "    name_index=[\"fuel\"],\n",
    ").assign(variant=\"KKW50\", unit=\"PJ\")\n",
    "\n",
    "fn_out = f\"{dir_out}{out_name}.csv\"\n",
    "df.to_csv(fn_out, index=False)"
   ]
  },
  {
   "cell_type": "code",
   "execution_count": 83,
   "id": "f60a79fc",
   "metadata": {},
   "outputs": [
    {
     "name": "stdout",
     "output_type": "stream",
     "text": [
      "Extracting data for scenario ZERO-A\n",
      "Extracting data for scenario ZERO-C\n",
      "Extracting data for scenario WWB\n",
      "Extracting data for scenario ZERO-Basis\n",
      "Extracting data for scenario ZERO-B\n"
     ]
    }
   ],
   "source": [
    "out_name = \"17-02-final_energy_consumption_agriculture_by_purpose\"\n",
    "df = pd.concat(\n",
    "    [\n",
    "        extract_data_all_scenarios(\n",
    "            sheet_name=sheet,\n",
    "            fn_excel=fn_excel_synthesis_50,\n",
    "            start_cell=\"B38\",\n",
    "            end_cell=\"BL47\",\n",
    "            name_index=[\"purpose\"],\n",
    "            exclude_scenarios=[\"ZERO-Basis\", \"ZERO-B\"],\n",
    "        ),\n",
    "        extract_data_all_scenarios(\n",
    "            sheet_name=sheet,\n",
    "            fn_excel=fn_excel_synthesis_50,\n",
    "            start_cell=\"B40\",\n",
    "            end_cell=\"BL49\",\n",
    "            name_index=[\"purpose\"],\n",
    "            exclude_scenarios=[\"WWB\", \"ZERO-A\", \"ZERO-C\"],\n",
    "        ),\n",
    "    ]\n",
    ").assign(variant=\"KKW50\", unit=\"PJ\")\n",
    "\n",
    "fn_out = f\"{dir_out}{out_name}.csv\"\n",
    "df.to_csv(fn_out, index=False)"
   ]
  },
  {
   "cell_type": "markdown",
   "id": "5f17cab5",
   "metadata": {},
   "source": [
    "## Buildings"
   ]
  },
  {
   "cell_type": "code",
   "execution_count": 84,
   "id": "38e68655",
   "metadata": {},
   "outputs": [],
   "source": [
    "sheet = \"18 Gebäude\""
   ]
  },
  {
   "cell_type": "code",
   "execution_count": 85,
   "id": "9859b3ce",
   "metadata": {},
   "outputs": [
    {
     "name": "stdout",
     "output_type": "stream",
     "text": [
      "Extracting data for scenario ZERO-Basis\n",
      "Extracting data for scenario ZERO-A\n",
      "Extracting data for scenario ZERO-B\n",
      "Extracting data for scenario ZERO-C\n",
      "Extracting data for scenario WWB\n"
     ]
    }
   ],
   "source": [
    "start, end = \"B12\", \"BL31\"\n",
    "out_name = \"18-01-final_energy_consumption_buildings_by_fuel\"\n",
    "# generation by technology\n",
    "df = extract_data_all_scenarios(\n",
    "    sheet_name=sheet,\n",
    "    fn_excel=fn_excel_synthesis_50,\n",
    "    start_cell=start,\n",
    "    end_cell=end,\n",
    "    name_index=[\"fuel\"],\n",
    ").assign(variant=\"KKW50\", unit=\"PJ\")\n",
    "\n",
    "fn_out = f\"{dir_out}{out_name}.csv\"\n",
    "df.to_csv(fn_out, index=False)"
   ]
  },
  {
   "cell_type": "code",
   "execution_count": 86,
   "id": "9b67fcc1",
   "metadata": {},
   "outputs": [
    {
     "name": "stdout",
     "output_type": "stream",
     "text": [
      "Extracting data for scenario ZERO-A\n",
      "Extracting data for scenario ZERO-C\n",
      "Extracting data for scenario WWB\n",
      "Extracting data for scenario ZERO-Basis\n",
      "Extracting data for scenario ZERO-B\n"
     ]
    }
   ],
   "source": [
    "out_name = \"18-02-final_energy_consumption_buildings_by_purpose\"\n",
    "df = pd.concat(\n",
    "    [\n",
    "        extract_data_all_scenarios(\n",
    "            sheet_name=sheet,\n",
    "            fn_excel=fn_excel_synthesis_50,\n",
    "            start_cell=\"B38\",\n",
    "            end_cell=\"BL47\",\n",
    "            name_index=[\"purpose\"],\n",
    "            exclude_scenarios=[\"ZERO-Basis\", \"ZERO-B\"],\n",
    "        ),\n",
    "        extract_data_all_scenarios(\n",
    "            sheet_name=sheet,\n",
    "            fn_excel=fn_excel_synthesis_50,\n",
    "            start_cell=\"B40\",\n",
    "            end_cell=\"BL49\",\n",
    "            name_index=[\"purpose\"],\n",
    "            exclude_scenarios=[\"WWB\", \"ZERO-A\", \"ZERO-C\"],\n",
    "        ),\n",
    "    ]\n",
    ").assign(variant=\"KKW50\", unit=\"PJ\")\n",
    "\n",
    "fn_out = f\"{dir_out}{out_name}.csv\"\n",
    "df.to_csv(fn_out, index=False)"
   ]
  },
  {
   "cell_type": "code",
   "execution_count": 87,
   "id": "958b88a8",
   "metadata": {},
   "outputs": [
    {
     "name": "stdout",
     "output_type": "stream",
     "text": [
      "Extracting data for scenario ZERO-A\n",
      "Extracting data for scenario ZERO-C\n",
      "Extracting data for scenario WWB\n",
      "Extracting data for scenario ZERO-Basis\n",
      "Extracting data for scenario ZERO-B\n"
     ]
    }
   ],
   "source": [
    "out_name = \"18-03-final_energy_consumption_buildings_by_sector\"\n",
    "df = pd.concat(\n",
    "    [\n",
    "        extract_data_all_scenarios(\n",
    "            sheet_name=sheet,\n",
    "            fn_excel=fn_excel_synthesis_50,\n",
    "            start_cell=\"B74\",\n",
    "            end_cell=\"BL79\",\n",
    "            name_index=[\"sector\"],\n",
    "            exclude_scenarios=[\"ZERO-Basis\", \"ZERO-B\"],\n",
    "        ),\n",
    "        extract_data_all_scenarios(\n",
    "            sheet_name=sheet,\n",
    "            fn_excel=fn_excel_synthesis_50,\n",
    "            start_cell=\"B76\",\n",
    "            end_cell=\"BL81\",\n",
    "            name_index=[\"sector\"],\n",
    "            exclude_scenarios=[\"WWB\", \"ZERO-A\", \"ZERO-C\", \"ZERO-B\"],\n",
    "        ),\n",
    "        extract_data_all_scenarios(\n",
    "            sheet_name=sheet,\n",
    "            fn_excel=fn_excel_synthesis_50,\n",
    "            start_cell=\"B77\",\n",
    "            end_cell=\"BL82\",\n",
    "            name_index=[\"sector\"],\n",
    "            exclude_scenarios=[\n",
    "                \"WWB\",\n",
    "                \"ZERO-A\",\n",
    "                \"ZERO-C\",\n",
    "                \"ZERO-Basis\",\n",
    "            ],\n",
    "        ),\n",
    "    ]\n",
    ").assign(variant=\"KKW50\", unit=\"PJ\")\n",
    "\n",
    "fn_out = f\"{dir_out}{out_name}.csv\"\n",
    "df.to_csv(fn_out, index=False)"
   ]
  },
  {
   "cell_type": "code",
   "execution_count": 88,
   "id": "c09572c4",
   "metadata": {},
   "outputs": [
    {
     "name": "stdout",
     "output_type": "stream",
     "text": [
      "Extracting data for scenario ZERO-A\n",
      "Extracting data for scenario ZERO-C\n",
      "Extracting data for scenario WWB\n",
      "Extracting data for scenario ZERO-Basis\n",
      "Extracting data for scenario ZERO-B\n"
     ]
    }
   ],
   "source": [
    "out_name = \"18-04-final_electricity_consumption_buildings_by_purpose\"\n",
    "df = pd.concat(\n",
    "    [\n",
    "        extract_data_all_scenarios(\n",
    "            sheet_name=sheet,\n",
    "            fn_excel=fn_excel_synthesis_50,\n",
    "            start_cell=\"B86\",\n",
    "            end_cell=\"BL91\",\n",
    "            name_index=[\"purpose\"],\n",
    "            exclude_scenarios=[\"ZERO-Basis\", \"ZERO-B\"],\n",
    "        ),\n",
    "        extract_data_all_scenarios(\n",
    "            sheet_name=sheet,\n",
    "            fn_excel=fn_excel_synthesis_50,\n",
    "            start_cell=\"B88\",\n",
    "            end_cell=\"BL93\",\n",
    "            name_index=[\"purpose\"],\n",
    "            exclude_scenarios=[\"WWB\", \"ZERO-A\", \"ZERO-C\", \"ZERO-B\"],\n",
    "        ),\n",
    "        extract_data_all_scenarios(\n",
    "            sheet_name=sheet,\n",
    "            fn_excel=fn_excel_synthesis_50,\n",
    "            start_cell=\"B89\",\n",
    "            end_cell=\"BL94\",\n",
    "            name_index=[\"purpose\"],\n",
    "            exclude_scenarios=[\n",
    "                \"WWB\",\n",
    "                \"ZERO-A\",\n",
    "                \"ZERO-C\",\n",
    "                \"ZERO-Basis\",\n",
    "            ],\n",
    "        ),\n",
    "    ]\n",
    ").assign(variant=\"KKW50\", unit=\"PJ\")\n",
    "\n",
    "fn_out = f\"{dir_out}{out_name}.csv\"\n",
    "df.to_csv(fn_out, index=False)"
   ]
  },
  {
   "cell_type": "markdown",
   "id": "474e4c32",
   "metadata": {},
   "source": [
    "## Energy sector"
   ]
  },
  {
   "cell_type": "code",
   "execution_count": 89,
   "id": "5fc1780f",
   "metadata": {},
   "outputs": [],
   "source": [
    "sheet = \"19 Energiewirtschaft\""
   ]
  },
  {
   "cell_type": "code",
   "execution_count": 90,
   "id": "507a8e77",
   "metadata": {},
   "outputs": [
    {
     "name": "stdout",
     "output_type": "stream",
     "text": [
      "Extracting data for scenario ZERO-Basis\n",
      "Extracting data for scenario ZERO-A\n",
      "Extracting data for scenario ZERO-B\n",
      "Extracting data for scenario ZERO-C\n",
      "Extracting data for scenario WWB\n"
     ]
    }
   ],
   "source": [
    "start, end = \"B16\", \"BL25\"\n",
    "out_name = \"19-01-non_energy_consumption_by_fuel\"\n",
    "df = extract_data_all_scenarios(\n",
    "    sheet_name=sheet,\n",
    "    fn_excel=fn_excel_synthesis_50,\n",
    "    start_cell=start,\n",
    "    end_cell=end,\n",
    "    name_index=[\"fuel\"],\n",
    ").assign(variant=\"KKW50\", unit=\"PJ\")\n",
    "\n",
    "fn_out = f\"{dir_out}{out_name}.csv\"\n",
    "df.to_csv(fn_out, index=False)"
   ]
  },
  {
   "cell_type": "code",
   "execution_count": 91,
   "id": "d797ac07",
   "metadata": {},
   "outputs": [
    {
     "name": "stdout",
     "output_type": "stream",
     "text": [
      "Extracting data for scenario ZERO-Basis\n",
      "Extracting data for scenario ZERO-A\n",
      "Extracting data for scenario ZERO-B\n",
      "Extracting data for scenario ZERO-C\n",
      "Extracting data for scenario WWB\n"
     ]
    }
   ],
   "source": [
    "start, end = \"B32\", \"BL46\"\n",
    "out_name = \"19-02-electricity_generation_by_technology\"\n",
    "# generation by technology\n",
    "df = extract_data_all_scenarios(\n",
    "    sheet_name=sheet,\n",
    "    fn_excel=fn_excel_synthesis_50,\n",
    "    start_cell=start,\n",
    "    end_cell=end,\n",
    "    name_index=[\"technology\"],\n",
    ").assign(variant=\"KKW50\", unit=\"PJ\")\n",
    "\n",
    "fn_out = f\"{dir_out}{out_name}.csv\"\n",
    "df.to_csv(fn_out, index=False)"
   ]
  },
  {
   "cell_type": "code",
   "execution_count": 92,
   "id": "34c17597",
   "metadata": {},
   "outputs": [
    {
     "name": "stdout",
     "output_type": "stream",
     "text": [
      "Extracting data for scenario ZERO-Basis\n",
      "Extracting data for scenario ZERO-A\n",
      "Extracting data for scenario ZERO-B\n",
      "Extracting data for scenario ZERO-C\n",
      "Extracting data for scenario WWB\n"
     ]
    }
   ],
   "source": [
    "start, end = \"B52\", \"BL64\"\n",
    "out_name = \"19-03-district_heating_by_technology\"\n",
    "# generation by technology\n",
    "df = extract_data_all_scenarios(\n",
    "            sheet_name=sheet,\n",
    "            fn_excel=fn_excel_synthesis_50,\n",
    "            start_cell=\"B53\",\n",
    "            end_cell=\"BL64\",\n",
    "            name_index=[\"technology\"],\n",
    "        ).assign(variant=\"KKW50\", unit=\"PJ\")\n",
    "\n",
    "fn_out = f\"{dir_out}{out_name}.csv\"\n",
    "df.to_csv(fn_out, index=False)"
   ]
  },
  {
   "cell_type": "markdown",
   "id": "043441f3",
   "metadata": {},
   "source": [
    "## Cost differences"
   ]
  },
  {
   "cell_type": "code",
   "execution_count": 93,
   "id": "574f770f",
   "metadata": {},
   "outputs": [],
   "source": [
    "sheet = \"20 Differenzkosten\""
   ]
  },
  {
   "cell_type": "code",
   "execution_count": 94,
   "id": "db25fc26",
   "metadata": {},
   "outputs": [
    {
     "name": "stdout",
     "output_type": "stream",
     "text": [
      "Extracting data for scenario ZERO-Basis\n",
      "Extracting data for scenario ZERO-A\n",
      "Extracting data for scenario ZERO-B\n",
      "Extracting data for scenario ZERO-C\n"
     ]
    }
   ],
   "source": [
    "start, end = \"B12\", \"AT16\"\n",
    "out_name = \"20-01-cost_difference_to_wwb_by_cost_type\"\n",
    "df = extract_data_all_scenarios(\n",
    "    sheet_name=sheet,\n",
    "    fn_excel=fn_excel_synthesis_50,\n",
    "    start_cell=start,\n",
    "    end_cell=end,\n",
    "    name_index=[\"cost_type\"],\n",
    "    exclude_scenarios=[\"WWB\"],\n",
    ").assign(variant=\"KKW50\", unit=\"Mrd. CHF\")\n",
    "\n",
    "fn_out = f\"{dir_out}{out_name}.csv\"\n",
    "df.to_csv(fn_out, index=False)"
   ]
  },
  {
   "cell_type": "code",
   "execution_count": 95,
   "id": "844ce59e",
   "metadata": {},
   "outputs": [
    {
     "name": "stdout",
     "output_type": "stream",
     "text": [
      "Extracting data for scenario ZERO-Basis\n",
      "Extracting data for scenario ZERO-A\n",
      "Extracting data for scenario ZERO-B\n",
      "Extracting data for scenario ZERO-C\n"
     ]
    }
   ],
   "source": [
    "start, end = \"B24\", \"AT63\"\n",
    "out_name = \"20-02-cost_difference_to_wwb_investments_by_sector\"\n",
    "df = extract_data_all_scenarios(\n",
    "    sheet_name=sheet,\n",
    "    fn_excel=fn_excel_synthesis_50,\n",
    "    start_cell=start,\n",
    "    end_cell=end,\n",
    "    name_index=[\"sector\"],\n",
    "    exclude_scenarios=[\"WWB\"],\n",
    ").assign(variant=\"KKW50\", unit=\"Mrd. CHF\")\n",
    "\n",
    "fn_out = f\"{dir_out}{out_name}.csv\"\n",
    "df.to_csv(fn_out, index=False)"
   ]
  },
  {
   "cell_type": "code",
   "execution_count": 96,
   "id": "970f8806",
   "metadata": {},
   "outputs": [
    {
     "name": "stdout",
     "output_type": "stream",
     "text": [
      "Extracting data for scenario ZERO-Basis\n",
      "Extracting data for scenario ZERO-A\n",
      "Extracting data for scenario ZERO-B\n",
      "Extracting data for scenario ZERO-C\n"
     ]
    }
   ],
   "source": [
    "start, end = \"B71\", \"AT88\"\n",
    "out_name = \"20-03-additional_om_cost_to_wwb_by_sector\"\n",
    "df = extract_data_all_scenarios(\n",
    "    sheet_name=sheet,\n",
    "    fn_excel=fn_excel_synthesis_50,\n",
    "    start_cell=start,\n",
    "    end_cell=end,\n",
    "    name_index=[\"sector\"],\n",
    "    exclude_scenarios=[\"WWB\"],\n",
    ").assign(variant=\"KKW50\", unit=\"Mrd. CHF\")\n",
    "\n",
    "fn_out = f\"{dir_out}{out_name}.csv\"\n",
    "df.to_csv(fn_out, index=False)"
   ]
  },
  {
   "cell_type": "code",
   "execution_count": 97,
   "id": "cfa059a3",
   "metadata": {},
   "outputs": [
    {
     "name": "stdout",
     "output_type": "stream",
     "text": [
      "Extracting data for scenario ZERO-Basis\n",
      "Extracting data for scenario ZERO-A\n",
      "Extracting data for scenario ZERO-B\n",
      "Extracting data for scenario ZERO-C\n"
     ]
    }
   ],
   "source": [
    "start, end = \"B96\", \"AT105\"\n",
    "out_name = \"20-04-additional_energy_cost_to_wwb_by_fuel\"\n",
    "df = extract_data_all_scenarios(\n",
    "    sheet_name=sheet,\n",
    "    fn_excel=fn_excel_synthesis_50,\n",
    "    start_cell=start,\n",
    "    end_cell=end,\n",
    "    name_index=[\"sector\"],\n",
    "    exclude_scenarios=[\"WWB\"],\n",
    ").assign(variant=\"KKW50\", unit=\"Mrd. CHF\")\n",
    "\n",
    "fn_out = f\"{dir_out}{out_name}.csv\"\n",
    "df.to_csv(fn_out, index=False)"
   ]
  },
  {
   "cell_type": "markdown",
   "id": "f88db5de",
   "metadata": {},
   "source": []
  }
 ],
 "metadata": {
  "kernelspec": {
   "display_name": "decipher-energy-scenarios",
   "language": "python",
   "name": "python3"
  },
  "language_info": {
   "codemirror_mode": {
    "name": "ipython",
    "version": 3
   },
   "file_extension": ".py",
   "mimetype": "text/x-python",
   "name": "python",
   "nbconvert_exporter": "python",
   "pygments_lexer": "ipython3",
   "version": "3.13.2"
  }
 },
 "nbformat": 4,
 "nbformat_minor": 5
}
