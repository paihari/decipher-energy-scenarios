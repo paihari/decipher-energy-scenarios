{
 "cells": [
  {
   "cell_type": "markdown",
   "id": "9094d9c0",
   "metadata": {},
   "source": [
    "# Template: Data Extraction"
   ]
  },
  {
   "cell_type": "markdown",
   "id": "1e925e8b",
   "metadata": {},
   "source": [
    "Template notebook that shows how to extract the data for scenarios from the\n",
    "zip files containing the excel files by scenario."
   ]
  },
  {
   "cell_type": "markdown",
   "id": "e99000a3",
   "metadata": {},
   "source": [
    "## Options and packages"
   ]
  },
  {
   "cell_type": "code",
   "execution_count": 6,
   "id": "ea3ab834",
   "metadata": {},
   "outputs": [],
   "source": [
    "import pandas as pd\n",
    "from utils import df_from_excel\n",
    "from zipfile import ZipFile\n",
    "import logging"
   ]
  },
  {
   "cell_type": "code",
   "execution_count": 7,
   "id": "5f888fed",
   "metadata": {},
   "outputs": [],
   "source": [
    "dir_data = \"../data/scenario_results/\""
   ]
  },
  {
   "cell_type": "markdown",
   "id": "65ab5309",
   "metadata": {},
   "source": [
    "## Extract data for all scenarios"
   ]
  },
  {
   "cell_type": "code",
   "execution_count": 8,
   "id": "d1f26884",
   "metadata": {},
   "outputs": [],
   "source": [
    "scenarios = {\n",
    "    \"ZERO-Basis\": f\"{dir_data}/10434-EP2050+_Szenarienergebnisse_ZERO-Basis.zip\",\n",
    "    \"ZERO-A\": f\"{dir_data}/10435-EP2050+_Szenarienergebnisse_ZERO-A.zip\",\n",
    "    \"ZERO-B\": f\"{dir_data}/10438-EP2050+_Szenarienergebnisse_ZERO-B.zip\",\n",
    "    \"ZERO-C\": f\"{dir_data}/10439-EP2050+_Szenarienergebnisse_ZERO-C.zip\",\n",
    "    \"WWB\": f\"{dir_data}/10440-EP2050+_Szenarienergebnisse_WWB.zip\"\n",
    "}"
   ]
  },
  {
   "cell_type": "code",
   "execution_count": 12,
   "id": "471fd6f3",
   "metadata": {},
   "outputs": [
    {
     "name": "stderr",
     "output_type": "stream",
     "text": [
      "WARNING:root:EP2050+_Szenarienergebnisse_WWB/EP2050+_Ergebnissynthese_2020-2060_WWB_KKW50_ausgeglicheneJahresbilanz_2022-04-12.xlsx not found in ../data/scenario_results//10440-EP2050+_Szenarienergebnisse_WWB.zip\n"
     ]
    },
    {
     "data": {
      "application/vnd.microsoft.datawrangler.viewer.v0+json": {
       "columns": [
        {
         "name": "index",
         "rawType": "int64",
         "type": "integer"
        },
        {
         "name": "Kenngrösse",
         "rawType": "object",
         "type": "string"
        },
        {
         "name": "Einheit",
         "rawType": "object",
         "type": "string"
        },
        {
         "name": "year",
         "rawType": "int64",
         "type": "integer"
        },
        {
         "name": "economic_assumptions",
         "rawType": "float64",
         "type": "float"
        },
        {
         "name": "scenario",
         "rawType": "object",
         "type": "string"
        }
       ],
       "ref": "b139afa8-02a4-417d-8255-dda031ece706",
       "rows": [
        [
         "0",
         "Bevölkerung",
         "Tsd., Jahresmittel",
         "2000",
         "7184.2",
         "ZERO-Basis"
        ],
        [
         "1",
         "Bevölkerung",
         "Tsd., Jahresmittel",
         "2001",
         "7229.85",
         "ZERO-Basis"
        ],
        [
         "2",
         "Bevölkerung",
         "Tsd., Jahresmittel",
         "2002",
         "7284.799999999999",
         "ZERO-Basis"
        ],
        [
         "3",
         "Bevölkerung",
         "Tsd., Jahresmittel",
         "2003",
         "7339.0",
         "ZERO-Basis"
        ],
        [
         "4",
         "Bevölkerung",
         "Tsd., Jahresmittel",
         "2004",
         "7389.6",
         "ZERO-Basis"
        ],
        [
         "5",
         "Bevölkerung",
         "Tsd., Jahresmittel",
         "2005",
         "7437.1",
         "ZERO-Basis"
        ],
        [
         "6",
         "Bevölkerung",
         "Tsd., Jahresmittel",
         "2006",
         "7483.9195",
         "ZERO-Basis"
        ],
        [
         "7",
         "Bevölkerung",
         "Tsd., Jahresmittel",
         "2007",
         "7551.1165",
         "ZERO-Basis"
        ],
        [
         "8",
         "Bevölkerung",
         "Tsd., Jahresmittel",
         "2008",
         "7647.674999999999",
         "ZERO-Basis"
        ],
        [
         "9",
         "Bevölkerung",
         "Tsd., Jahresmittel",
         "2009",
         "7743.831",
         "ZERO-Basis"
        ],
        [
         "10",
         "Bevölkerung",
         "Tsd., Jahresmittel",
         "2010",
         "7827.903",
         "ZERO-Basis"
        ],
        [
         "11",
         "Bevölkerung",
         "Tsd., Jahresmittel",
         "2011",
         "7912.331",
         "ZERO-Basis"
        ],
        [
         "12",
         "Bevölkerung",
         "Tsd., Jahresmittel",
         "2012",
         "7996.861000000001",
         "ZERO-Basis"
        ],
        [
         "13",
         "Bevölkerung",
         "Tsd., Jahresmittel",
         "2013",
         "8089.3455",
         "ZERO-Basis"
        ],
        [
         "14",
         "Bevölkerung",
         "Tsd., Jahresmittel",
         "2014",
         "8188.648499999999",
         "ZERO-Basis"
        ],
        [
         "15",
         "Bevölkerung",
         "Tsd., Jahresmittel",
         "2015",
         "8282.396",
         "ZERO-Basis"
        ],
        [
         "16",
         "Bevölkerung",
         "Tsd., Jahresmittel",
         "2016",
         "8373.338",
         "ZERO-Basis"
        ],
        [
         "17",
         "Bevölkerung",
         "Tsd., Jahresmittel",
         "2017",
         "8460.339150718035",
         "ZERO-Basis"
        ],
        [
         "18",
         "Bevölkerung",
         "Tsd., Jahresmittel",
         "2018",
         "8541.929935215085",
         "ZERO-Basis"
        ],
        [
         "19",
         "Bevölkerung",
         "Tsd., Jahresmittel",
         "2019",
         "8623.518223099936",
         "ZERO-Basis"
        ],
        [
         "20",
         "Bevölkerung",
         "Tsd., Jahresmittel",
         "2020",
         "8705.0425977126",
         "ZERO-Basis"
        ],
        [
         "21",
         "Bevölkerung",
         "Tsd., Jahresmittel",
         "2021",
         "8786.389712859424",
         "ZERO-Basis"
        ],
        [
         "22",
         "Bevölkerung",
         "Tsd., Jahresmittel",
         "2022",
         "8867.448219636517",
         "ZERO-Basis"
        ],
        [
         "23",
         "Bevölkerung",
         "Tsd., Jahresmittel",
         "2023",
         "8948.140223743398",
         "ZERO-Basis"
        ],
        [
         "24",
         "Bevölkerung",
         "Tsd., Jahresmittel",
         "2024",
         "9028.341393892755",
         "ZERO-Basis"
        ],
        [
         "25",
         "Bevölkerung",
         "Tsd., Jahresmittel",
         "2025",
         "9107.877965875832",
         "ZERO-Basis"
        ],
        [
         "26",
         "Bevölkerung",
         "Tsd., Jahresmittel",
         "2026",
         "9186.610628732145",
         "ZERO-Basis"
        ],
        [
         "27",
         "Bevölkerung",
         "Tsd., Jahresmittel",
         "2027",
         "9264.440516618777",
         "ZERO-Basis"
        ],
        [
         "28",
         "Bevölkerung",
         "Tsd., Jahresmittel",
         "2028",
         "9341.253784019642",
         "ZERO-Basis"
        ],
        [
         "29",
         "Bevölkerung",
         "Tsd., Jahresmittel",
         "2029",
         "9416.969540699622",
         "ZERO-Basis"
        ],
        [
         "30",
         "Bevölkerung",
         "Tsd., Jahresmittel",
         "2030",
         "9491.544345606528",
         "ZERO-Basis"
        ],
        [
         "31",
         "Bevölkerung",
         "Tsd., Jahresmittel",
         "2031",
         "9564.446420342843",
         "ZERO-Basis"
        ],
        [
         "32",
         "Bevölkerung",
         "Tsd., Jahresmittel",
         "2032",
         "9634.621195917436",
         "ZERO-Basis"
        ],
        [
         "33",
         "Bevölkerung",
         "Tsd., Jahresmittel",
         "2033",
         "9701.038070816245",
         "ZERO-Basis"
        ],
        [
         "34",
         "Bevölkerung",
         "Tsd., Jahresmittel",
         "2034",
         "9762.15813328233",
         "ZERO-Basis"
        ],
        [
         "35",
         "Bevölkerung",
         "Tsd., Jahresmittel",
         "2035",
         "9817.37220994013",
         "ZERO-Basis"
        ],
        [
         "36",
         "Bevölkerung",
         "Tsd., Jahresmittel",
         "2036",
         "9867.166141522775",
         "ZERO-Basis"
        ],
        [
         "37",
         "Bevölkerung",
         "Tsd., Jahresmittel",
         "2037",
         "9911.075058839575",
         "ZERO-Basis"
        ],
        [
         "38",
         "Bevölkerung",
         "Tsd., Jahresmittel",
         "2038",
         "9949.534870379757",
         "ZERO-Basis"
        ],
        [
         "39",
         "Bevölkerung",
         "Tsd., Jahresmittel",
         "2039",
         "9984.023071240277",
         "ZERO-Basis"
        ],
        [
         "40",
         "Bevölkerung",
         "Tsd., Jahresmittel",
         "2040",
         "10015.56327242104",
         "ZERO-Basis"
        ],
        [
         "41",
         "Bevölkerung",
         "Tsd., Jahresmittel",
         "2041",
         "10045.131649290266",
         "ZERO-Basis"
        ],
        [
         "42",
         "Bevölkerung",
         "Tsd., Jahresmittel",
         "2042",
         "10073.286943657171",
         "ZERO-Basis"
        ],
        [
         "43",
         "Bevölkerung",
         "Tsd., Jahresmittel",
         "2043",
         "10100.185942767595",
         "ZERO-Basis"
        ],
        [
         "44",
         "Bevölkerung",
         "Tsd., Jahresmittel",
         "2044",
         "10125.870090383974",
         "ZERO-Basis"
        ],
        [
         "45",
         "Bevölkerung",
         "Tsd., Jahresmittel",
         "2045",
         "10150.365850595575",
         "ZERO-Basis"
        ],
        [
         "46",
         "Bevölkerung",
         "Tsd., Jahresmittel",
         "2046",
         "10173.75461295995",
         "ZERO-Basis"
        ],
        [
         "47",
         "Bevölkerung",
         "Tsd., Jahresmittel",
         "2047",
         "10196.108279908316",
         "ZERO-Basis"
        ],
        [
         "48",
         "Bevölkerung",
         "Tsd., Jahresmittel",
         "2048",
         "10217.45681078701",
         "ZERO-Basis"
        ],
        [
         "49",
         "Bevölkerung",
         "Tsd., Jahresmittel",
         "2049",
         "10237.750273352136",
         "ZERO-Basis"
        ]
       ],
       "shape": {
        "columns": 5,
        "rows": 976
       }
      },
      "text/html": [
       "<div>\n",
       "<style scoped>\n",
       "    .dataframe tbody tr th:only-of-type {\n",
       "        vertical-align: middle;\n",
       "    }\n",
       "\n",
       "    .dataframe tbody tr th {\n",
       "        vertical-align: top;\n",
       "    }\n",
       "\n",
       "    .dataframe thead th {\n",
       "        text-align: right;\n",
       "    }\n",
       "</style>\n",
       "<table border=\"1\" class=\"dataframe\">\n",
       "  <thead>\n",
       "    <tr style=\"text-align: right;\">\n",
       "      <th></th>\n",
       "      <th>Kenngrösse</th>\n",
       "      <th>Einheit</th>\n",
       "      <th>year</th>\n",
       "      <th>economic_assumptions</th>\n",
       "      <th>scenario</th>\n",
       "    </tr>\n",
       "  </thead>\n",
       "  <tbody>\n",
       "    <tr>\n",
       "      <th>0</th>\n",
       "      <td>Bevölkerung</td>\n",
       "      <td>Tsd., Jahresmittel</td>\n",
       "      <td>2000</td>\n",
       "      <td>7184.200000</td>\n",
       "      <td>ZERO-Basis</td>\n",
       "    </tr>\n",
       "    <tr>\n",
       "      <th>1</th>\n",
       "      <td>Bevölkerung</td>\n",
       "      <td>Tsd., Jahresmittel</td>\n",
       "      <td>2001</td>\n",
       "      <td>7229.850000</td>\n",
       "      <td>ZERO-Basis</td>\n",
       "    </tr>\n",
       "    <tr>\n",
       "      <th>2</th>\n",
       "      <td>Bevölkerung</td>\n",
       "      <td>Tsd., Jahresmittel</td>\n",
       "      <td>2002</td>\n",
       "      <td>7284.800000</td>\n",
       "      <td>ZERO-Basis</td>\n",
       "    </tr>\n",
       "    <tr>\n",
       "      <th>3</th>\n",
       "      <td>Bevölkerung</td>\n",
       "      <td>Tsd., Jahresmittel</td>\n",
       "      <td>2003</td>\n",
       "      <td>7339.000000</td>\n",
       "      <td>ZERO-Basis</td>\n",
       "    </tr>\n",
       "    <tr>\n",
       "      <th>4</th>\n",
       "      <td>Bevölkerung</td>\n",
       "      <td>Tsd., Jahresmittel</td>\n",
       "      <td>2004</td>\n",
       "      <td>7389.600000</td>\n",
       "      <td>ZERO-Basis</td>\n",
       "    </tr>\n",
       "    <tr>\n",
       "      <th>...</th>\n",
       "      <td>...</td>\n",
       "      <td>...</td>\n",
       "      <td>...</td>\n",
       "      <td>...</td>\n",
       "      <td>...</td>\n",
       "    </tr>\n",
       "    <tr>\n",
       "      <th>971</th>\n",
       "      <td>Bruttoinlandsprodukt</td>\n",
       "      <td>Mrd. CHF-2017</td>\n",
       "      <td>2056</td>\n",
       "      <td>1008.665564</td>\n",
       "      <td>ZERO-C</td>\n",
       "    </tr>\n",
       "    <tr>\n",
       "      <th>972</th>\n",
       "      <td>Bruttoinlandsprodukt</td>\n",
       "      <td>Mrd. CHF-2017</td>\n",
       "      <td>2057</td>\n",
       "      <td>1015.706826</td>\n",
       "      <td>ZERO-C</td>\n",
       "    </tr>\n",
       "    <tr>\n",
       "      <th>973</th>\n",
       "      <td>Bruttoinlandsprodukt</td>\n",
       "      <td>Mrd. CHF-2017</td>\n",
       "      <td>2058</td>\n",
       "      <td>1022.957103</td>\n",
       "      <td>ZERO-C</td>\n",
       "    </tr>\n",
       "    <tr>\n",
       "      <th>974</th>\n",
       "      <td>Bruttoinlandsprodukt</td>\n",
       "      <td>Mrd. CHF-2017</td>\n",
       "      <td>2059</td>\n",
       "      <td>1030.411109</td>\n",
       "      <td>ZERO-C</td>\n",
       "    </tr>\n",
       "    <tr>\n",
       "      <th>975</th>\n",
       "      <td>Bruttoinlandsprodukt</td>\n",
       "      <td>Mrd. CHF-2017</td>\n",
       "      <td>2060</td>\n",
       "      <td>1038.057413</td>\n",
       "      <td>ZERO-C</td>\n",
       "    </tr>\n",
       "  </tbody>\n",
       "</table>\n",
       "<p>976 rows × 5 columns</p>\n",
       "</div>"
      ],
      "text/plain": [
       "               Kenngrösse             Einheit  year  economic_assumptions  \\\n",
       "0             Bevölkerung  Tsd., Jahresmittel  2000           7184.200000   \n",
       "1             Bevölkerung  Tsd., Jahresmittel  2001           7229.850000   \n",
       "2             Bevölkerung  Tsd., Jahresmittel  2002           7284.800000   \n",
       "3             Bevölkerung  Tsd., Jahresmittel  2003           7339.000000   \n",
       "4             Bevölkerung  Tsd., Jahresmittel  2004           7389.600000   \n",
       "..                    ...                 ...   ...                   ...   \n",
       "971  Bruttoinlandsprodukt       Mrd. CHF-2017  2056           1008.665564   \n",
       "972  Bruttoinlandsprodukt       Mrd. CHF-2017  2057           1015.706826   \n",
       "973  Bruttoinlandsprodukt       Mrd. CHF-2017  2058           1022.957103   \n",
       "974  Bruttoinlandsprodukt       Mrd. CHF-2017  2059           1030.411109   \n",
       "975  Bruttoinlandsprodukt       Mrd. CHF-2017  2060           1038.057413   \n",
       "\n",
       "       scenario  \n",
       "0    ZERO-Basis  \n",
       "1    ZERO-Basis  \n",
       "2    ZERO-Basis  \n",
       "3    ZERO-Basis  \n",
       "4    ZERO-Basis  \n",
       "..          ...  \n",
       "971      ZERO-C  \n",
       "972      ZERO-C  \n",
       "973      ZERO-C  \n",
       "974      ZERO-C  \n",
       "975      ZERO-C  \n",
       "\n",
       "[976 rows x 5 columns]"
      ]
     },
     "execution_count": 12,
     "metadata": {},
     "output_type": "execute_result"
    }
   ],
   "source": [
    "lst_df = []\n",
    "for scenario, fn_zip in scenarios.items():\n",
    "    # the zip file with the scenario results\n",
    "    with ZipFile(fn_zip, 'r') as zip_file:\n",
    "        # the excel in the zip file\n",
    "        fn_excel = f\"EP2050+_Szenarienergebnisse_{scenario}/EP2050+_Ergebnissynthese_2020-2060_{scenario}_KKW50_ausgeglicheneJahresbilanz_2022-04-12.xlsx\"\n",
    "        if fn_excel not in zip_file.namelist():\n",
    "            logging.warning(f\"{fn_excel} not found in {fn_zip}\")\n",
    "            continue\n",
    "        with zip_file.open(fn_excel) as excel_file:\n",
    "            # the sheet we want to read from\n",
    "            sheet_name = \"01 Annahmen und Rahmendaten\"\n",
    "            df = df_from_excel(\n",
    "                fn=excel_file,\n",
    "                sheet_name=sheet_name,\n",
    "                start_cell=\"B12\",\n",
    "                end_cell=\"BM16\",\n",
    "                name_values=\"economic_assumptions\"\n",
    "            )\n",
    "            lst_df.append(df.assign(scenario=scenario))\n",
    "df = pd.concat(lst_df, ignore_index=True)\n",
    "df"
   ]
  },
  {
   "cell_type": "code",
   "execution_count": null,
   "id": "477087ca",
   "metadata": {},
   "outputs": [],
   "source": []
  }
 ],
 "metadata": {
  "kernelspec": {
   "display_name": "decipher-energy-scenarios",
   "language": "python",
   "name": "python3"
  },
  "language_info": {
   "codemirror_mode": {
    "name": "ipython",
    "version": 3
   },
   "file_extension": ".py",
   "mimetype": "text/x-python",
   "name": "python",
   "nbconvert_exporter": "python",
   "pygments_lexer": "ipython3",
   "version": "3.13.0"
  }
 },
 "nbformat": 4,
 "nbformat_minor": 5
}
