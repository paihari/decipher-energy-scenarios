{
 "cells": [
  {
   "cell_type": "markdown",
   "id": "9094d9c0",
   "metadata": {},
   "source": [
    "# Data Extraction: Transformation Sector"
   ]
  },
  {
   "cell_type": "markdown",
   "id": "1e925e8b",
   "metadata": {},
   "source": [
    "This notebook extracts all the data from the excel files providing the results on the transformation sector, i.e., mainly for the electricity sector. For each table, we combine the across all scenarios."
   ]
  },
  {
   "cell_type": "markdown",
   "id": "e99000a3",
   "metadata": {},
   "source": [
    "## Options and packages"
   ]
  },
  {
   "cell_type": "code",
   "execution_count": 1,
   "id": "ea3ab834",
   "metadata": {},
   "outputs": [],
   "source": [
    "import pandas as pd\n",
    "from utils import extract_data_all_scenarios"
   ]
  },
  {
   "cell_type": "code",
   "execution_count": 2,
   "id": "5f888fed",
   "metadata": {},
   "outputs": [],
   "source": [
    "dir_out = \"../data/extracted/transformation/\""
   ]
  },
  {
   "cell_type": "markdown",
   "id": "acd330a2",
   "metadata": {},
   "source": [
    "## Helper functions"
   ]
  },
  {
   "cell_type": "markdown",
   "id": "d815392a",
   "metadata": {},
   "source": [
    "Some functions to find the correct excel in the zip file containing the results\n",
    "by scenario."
   ]
  },
  {
   "cell_type": "code",
   "execution_count": 3,
   "id": "900bfcc1",
   "metadata": {},
   "outputs": [],
   "source": [
    "def fn_excel_transform_50(scenario):\n",
    "    if scenario == \"WWB\":\n",
    "        return \"EP2050+_Szenarienergebnisse_WWB/EP2050+_Umwandlungssynthese_2020-2060_WWB_KKW50_aktuelleRahmenbedingungen_2022-04-12.xlsx\"\n",
    "    elif scenario == \"ZERO-Basis\":\n",
    "        return \"EP2050+_Szenarienergebnisse_ZERO-Basis/EP2050+_Umwandlungssynthese_2020-2060_ZERO Basis_KKW50_ausgeglicheneJahresbilanz_2022-04-12.xlsx\"\n",
    "    return f\"EP2050+_Szenarienergebnisse_{scenario}/EP2050+_Umwandlungssynthese_2020-2060_{scenario}_KKW50_ausgeglicheneJahresbilanz_2022-04-12.xlsx\"\n",
    "\n",
    "\n",
    "def fn_excel_transform_60(scenario):\n",
    "    if scenario == \"WWB\":\n",
    "        return \"EP2050+_Szenarienergebnisse_WWB/EP2050+_Umwandlungssynthese_2020-2060_WWB_KKW60_aktuelleRahmenbedingungen_2022-04-12.xlsx\"\n",
    "    elif scenario == \"ZERO-Basis\":\n",
    "        return \"EP2050+_Szenarienergebnisse_ZERO-Basis/EP2050+_Umwandlungssynthese_2020-2060_ZERO Basis_KKW60_ausgeglicheneJahresbilanz_2022-04-12.xlsx\"\n",
    "    return f\"EP2050+_Szenarienergebnisse_{scenario}/EP2050+_Umwandlungssynthese_2020-2060_{scenario}_KKW60_ausgeglicheneJahresbilanz_2022-04-12.xlsx\"\n",
    "\n",
    "\n",
    "def fn_excel_synthesis_50(scenario):\n",
    "    if scenario == \"WWB\":\n",
    "        return \"EP2050+_Szenarienergebnisse_WWB/EP2050+_Ergebnissynthese_2020-2060_WWB_KKW50_aktuelleRahmenbedingungen_2022-04-12.xlsx\"\n",
    "    return f\"EP2050+_Szenarienergebnisse_{scenario}/EP2050+_Ergebnissynthese_2020-2060_{scenario}_KKW50_ausgeglicheneJahresbilanz_2022-04-12.xlsx\""
   ]
  },
  {
   "cell_type": "markdown",
   "id": "efbca22e",
   "metadata": {},
   "source": [
    "## Electricity generation"
   ]
  },
  {
   "cell_type": "code",
   "execution_count": 4,
   "id": "f569b404",
   "metadata": {},
   "outputs": [],
   "source": [
    "sheet = \"02 Stromerzeugung\""
   ]
  },
  {
   "cell_type": "code",
   "execution_count": 5,
   "id": "7ea018c6",
   "metadata": {},
   "outputs": [
    {
     "name": "stdout",
     "output_type": "stream",
     "text": [
      "Extracting data for scenario ZERO-Basis\n",
      "Extracting data for scenario ZERO-A\n",
      "Extracting data for scenario ZERO-B\n",
      "Extracting data for scenario ZERO-C\n",
      "Extracting data for scenario WWB\n",
      "Extracting data for scenario ZERO-Basis\n",
      "Extracting data for scenario ZERO-A\n",
      "Extracting data for scenario ZERO-B\n",
      "Extracting data for scenario ZERO-C\n",
      "Extracting data for scenario WWB\n"
     ]
    }
   ],
   "source": [
    "start, end = \"B11\", \"BL33\"\n",
    "out_name = \"02-01-electricity_generation_by_technology\"\n",
    "# generation by technology\n",
    "df = pd.concat(\n",
    "    [\n",
    "        extract_data_all_scenarios(\n",
    "            sheet_name=sheet,\n",
    "            fn_excel=fn_excel_transform_50,\n",
    "            start_cell=start,\n",
    "            end_cell=end,\n",
    "            name_index=[\"technology\"],\n",
    "        ).assign(variant=\"KKW50\"),\n",
    "        extract_data_all_scenarios(\n",
    "            sheet_name=sheet,\n",
    "            fn_excel=fn_excel_transform_60,\n",
    "            start_cell=start,\n",
    "            end_cell=end,\n",
    "            name_index=\"technology\"\n",
    "        ).assign(variant=\"KKW60\"),\n",
    "    ]\n",
    ").assign(\n",
    "    unit=\"TWh\",\n",
    "    technology=lambda df: df[\"technology\"].str.replace(\"*\", \"\")\n",
    " )\n",
    "\n",
    "fn_out = f\"{dir_out}{out_name}.csv\"\n",
    "df.to_csv(fn_out, index=False)"
   ]
  },
  {
   "cell_type": "code",
   "execution_count": 6,
   "id": "477087ca",
   "metadata": {},
   "outputs": [
    {
     "name": "stdout",
     "output_type": "stream",
     "text": [
      "Extracting data for scenario ZERO-Basis\n",
      "Extracting data for scenario ZERO-A\n",
      "Extracting data for scenario ZERO-B\n",
      "Extracting data for scenario ZERO-C\n",
      "Extracting data for scenario WWB\n",
      "Extracting data for scenario ZERO-Basis\n",
      "Extracting data for scenario ZERO-A\n",
      "Extracting data for scenario ZERO-B\n",
      "Extracting data for scenario ZERO-C\n",
      "Extracting data for scenario WWB\n"
     ]
    }
   ],
   "source": [
    "start, end = \"B39\", \"BL50\"\n",
    "out_name = \"02-02-electricity_generation_by_renewable_source\"\n",
    "df = pd.concat(\n",
    "    [\n",
    "        extract_data_all_scenarios(\n",
    "            sheet_name=sheet,\n",
    "            fn_excel=fn_excel_transform_50,\n",
    "            start_cell=start,\n",
    "            end_cell=end,\n",
    "            name_index=[\"technology\"],\n",
    "        ).assign(variant=\"KKW50\"),\n",
    "        extract_data_all_scenarios(\n",
    "            sheet_name=sheet,\n",
    "            fn_excel=fn_excel_transform_60,\n",
    "            start_cell=start,\n",
    "            end_cell=end,\n",
    "            name_index=[\"technology\"],\n",
    "        ).assign(variant=\"KKW60\"),\n",
    "    ]\n",
    ").assign(\n",
    "    unit=\"TWh\",\n",
    "    technology=lambda df: df[\"technology\"].str.replace(\"*\", \"\")\n",
    ")\n",
    "fn_out = f\"{dir_out}{out_name}.csv\"\n",
    "df.to_csv(fn_out, index=False)"
   ]
  },
  {
   "cell_type": "code",
   "execution_count": 7,
   "id": "01b23703",
   "metadata": {},
   "outputs": [
    {
     "name": "stdout",
     "output_type": "stream",
     "text": [
      "Extracting data for scenario ZERO-Basis\n",
      "Extracting data for scenario ZERO-A\n",
      "Extracting data for scenario ZERO-B\n",
      "Extracting data for scenario ZERO-C\n",
      "Extracting data for scenario WWB\n",
      "Extracting data for scenario ZERO-Basis\n",
      "Extracting data for scenario ZERO-A\n",
      "Extracting data for scenario ZERO-B\n",
      "Extracting data for scenario ZERO-C\n",
      "Extracting data for scenario WWB\n"
     ]
    }
   ],
   "source": [
    "start, end = \"B56\", \"BL63\"\n",
    "out_name = \"02-03-electricity_generation_by_hydro_source\"\n",
    "df = pd.concat(\n",
    "    [\n",
    "        extract_data_all_scenarios(\n",
    "            sheet_name=sheet,\n",
    "            fn_excel=fn_excel_transform_50,\n",
    "            start_cell=start,\n",
    "            end_cell=end,\n",
    "            name_index=[\"technology\"],\n",
    "        ).assign(variant=\"KKW50\"),\n",
    "        extract_data_all_scenarios(\n",
    "            sheet_name=sheet,\n",
    "            fn_excel=fn_excel_transform_60,\n",
    "            start_cell=start,\n",
    "            end_cell=end,\n",
    "            name_index=[\"technology\"],\n",
    "        ).assign(variant=\"KKW60\"),\n",
    "    ]\n",
    ").assign(\n",
    "    unit=\"TWh\",\n",
    "    technology=lambda df: df[\"technology\"].str.replace(\"*\", \"\")\n",
    ")\n",
    "fn_out = f\"{dir_out}{out_name}.csv\"\n",
    "df.to_csv(fn_out, index=False)"
   ]
  },
  {
   "cell_type": "markdown",
   "id": "f232c18a",
   "metadata": {},
   "source": [
    "## Winter generation"
   ]
  },
  {
   "cell_type": "code",
   "execution_count": 8,
   "id": "f8d8c344",
   "metadata": {},
   "outputs": [],
   "source": [
    "sheet = \"04 Stromerzeugung Winter\""
   ]
  },
  {
   "cell_type": "code",
   "execution_count": 9,
   "id": "90874f3c",
   "metadata": {},
   "outputs": [
    {
     "name": "stdout",
     "output_type": "stream",
     "text": [
      "Extracting data for scenario ZERO-Basis\n",
      "Extracting data for scenario ZERO-A\n",
      "Extracting data for scenario ZERO-B\n",
      "Extracting data for scenario ZERO-C\n",
      "Extracting data for scenario WWB\n",
      "Extracting data for scenario ZERO-Basis\n",
      "Extracting data for scenario ZERO-A\n",
      "Extracting data for scenario ZERO-B\n",
      "Extracting data for scenario ZERO-C\n",
      "Extracting data for scenario WWB\n"
     ]
    }
   ],
   "source": [
    "start, end = \"B11\", \"BL22\"\n",
    "out_name = \"04-01-winter_electricity_generation_by_technology\"\n",
    "# generation by technology\n",
    "df = pd.concat(\n",
    "    [\n",
    "        extract_data_all_scenarios(\n",
    "            sheet_name=sheet,\n",
    "            fn_excel=fn_excel_transform_50,\n",
    "            start_cell=start,\n",
    "            end_cell=end,\n",
    "            name_index=[\"technology\"],\n",
    "        ).assign(variant=\"KKW50\"),\n",
    "        extract_data_all_scenarios(\n",
    "            sheet_name=sheet,\n",
    "            fn_excel=fn_excel_transform_60,\n",
    "            start_cell=start,\n",
    "            end_cell=end,\n",
    "            name_index=\"technology\",\n",
    "        ).assign(variant=\"KKW60\"),\n",
    "    ]\n",
    ").assign(\n",
    "    unit=\"TWh\",\n",
    "    technology=lambda df: df[\"technology\"].str.replace(\"*\", \"\")\n",
    ")\n",
    "fn_out = f\"{dir_out}{out_name}.csv\"\n",
    "df.to_csv(fn_out, index=False)"
   ]
  },
  {
   "cell_type": "code",
   "execution_count": 10,
   "id": "4859dba9",
   "metadata": {},
   "outputs": [
    {
     "name": "stdout",
     "output_type": "stream",
     "text": [
      "Extracting data for scenario ZERO-Basis\n",
      "Extracting data for scenario ZERO-A\n",
      "Extracting data for scenario ZERO-B\n",
      "Extracting data for scenario ZERO-C\n",
      "Extracting data for scenario WWB\n",
      "Extracting data for scenario ZERO-Basis\n",
      "Extracting data for scenario ZERO-A\n",
      "Extracting data for scenario ZERO-B\n",
      "Extracting data for scenario ZERO-C\n",
      "Extracting data for scenario WWB\n"
     ]
    }
   ],
   "source": [
    "start, end = \"B28\", \"BL39\"\n",
    "out_name = \"04-02-winter_electricity_generation_by_renewable_source\"\n",
    "# generation by technology\n",
    "df = pd.concat(\n",
    "    [\n",
    "        extract_data_all_scenarios(\n",
    "            sheet_name=sheet,\n",
    "            fn_excel=fn_excel_transform_50,\n",
    "            start_cell=start,\n",
    "            end_cell=end,\n",
    "            name_index=[\"technology\"],\n",
    "        ).assign(variant=\"KKW50\"),\n",
    "        extract_data_all_scenarios(\n",
    "            sheet_name=sheet,\n",
    "            fn_excel=fn_excel_transform_60,\n",
    "            start_cell=start,\n",
    "            end_cell=end,\n",
    "            name_index=\"technology\",\n",
    "        ).assign(variant=\"KKW60\"),\n",
    "    ]\n",
    ").assign(\n",
    "    unit=\"TWh\",\n",
    "    technology=lambda df: df[\"technology\"].str.replace(\"*\", \"\")\n",
    ")\n",
    "fn_out = f\"{dir_out}{out_name}.csv\"\n",
    "df.to_csv(fn_out, index=False)"
   ]
  },
  {
   "cell_type": "markdown",
   "id": "65c17f9b",
   "metadata": {},
   "source": [
    "## Summer generation"
   ]
  },
  {
   "cell_type": "code",
   "execution_count": 11,
   "id": "47d8505f",
   "metadata": {},
   "outputs": [],
   "source": [
    "sheet = \"05 Stromerzeugung Sommer\""
   ]
  },
  {
   "cell_type": "code",
   "execution_count": 12,
   "id": "b505d561",
   "metadata": {},
   "outputs": [
    {
     "name": "stdout",
     "output_type": "stream",
     "text": [
      "Extracting data for scenario ZERO-Basis\n",
      "Extracting data for scenario ZERO-A\n",
      "Extracting data for scenario ZERO-B\n",
      "Extracting data for scenario ZERO-C\n",
      "Extracting data for scenario WWB\n",
      "Extracting data for scenario ZERO-Basis\n",
      "Extracting data for scenario ZERO-A\n",
      "Extracting data for scenario ZERO-B\n",
      "Extracting data for scenario ZERO-C\n",
      "Extracting data for scenario WWB\n"
     ]
    }
   ],
   "source": [
    "start, end = \"B11\", \"BL22\"\n",
    "out_name = \"05-01-summer_electricity_generation_by_technology\"\n",
    "# generation by technology\n",
    "df = pd.concat(\n",
    "    [\n",
    "        extract_data_all_scenarios(\n",
    "            sheet_name=sheet,\n",
    "            fn_excel=fn_excel_transform_50,\n",
    "            start_cell=start,\n",
    "            end_cell=end,\n",
    "            name_index=[\"technology\"],\n",
    "        ).assign(variant=\"KKW50\"),\n",
    "        extract_data_all_scenarios(\n",
    "            sheet_name=sheet,\n",
    "            fn_excel=fn_excel_transform_60,\n",
    "            start_cell=start,\n",
    "            end_cell=end,\n",
    "            name_index=\"technology\",\n",
    "        ).assign(variant=\"KKW60\"),\n",
    "    ]\n",
    ").assign(\n",
    "    unit=\"TWh\",\n",
    "    technology=lambda df: df[\"technology\"].str.replace(\"*\", \"\")\n",
    ")\n",
    "fn_out = f\"{dir_out}{out_name}.csv\"\n",
    "df.to_csv(fn_out, index=False)"
   ]
  },
  {
   "cell_type": "code",
   "execution_count": 13,
   "id": "513858a8",
   "metadata": {},
   "outputs": [
    {
     "name": "stdout",
     "output_type": "stream",
     "text": [
      "Extracting data for scenario ZERO-Basis\n",
      "Extracting data for scenario ZERO-A\n",
      "Extracting data for scenario ZERO-B\n",
      "Extracting data for scenario ZERO-C\n",
      "Extracting data for scenario WWB\n",
      "Extracting data for scenario ZERO-Basis\n",
      "Extracting data for scenario ZERO-A\n",
      "Extracting data for scenario ZERO-B\n",
      "Extracting data for scenario ZERO-C\n",
      "Extracting data for scenario WWB\n"
     ]
    }
   ],
   "source": [
    "start, end = \"B28\", \"BL39\"\n",
    "out_name = \"05-02-summer_electricity_generation_by_renewable_source\"\n",
    "# generation by technology\n",
    "df = pd.concat(\n",
    "    [\n",
    "        extract_data_all_scenarios(\n",
    "            sheet_name=sheet,\n",
    "            fn_excel=fn_excel_transform_50,\n",
    "            start_cell=start,\n",
    "            end_cell=end,\n",
    "            name_index=[\"technology\"],\n",
    "        ).assign(variant=\"KKW50\"),\n",
    "        extract_data_all_scenarios(\n",
    "            sheet_name=sheet,\n",
    "            fn_excel=fn_excel_transform_60,\n",
    "            start_cell=start,\n",
    "            end_cell=end,\n",
    "            name_index=\"technology\",\n",
    "        ).assign(variant=\"KKW60\"),\n",
    "    ]\n",
    ").assign(\n",
    "    unit=\"TWh\",\n",
    "    technology=lambda df: df[\"technology\"].str.replace(\"*\", \"\")\n",
    ")\n",
    "fn_out = f\"{dir_out}{out_name}.csv\"\n",
    "df.to_csv(fn_out, index=False)"
   ]
  },
  {
   "cell_type": "markdown",
   "id": "dd5a60a4",
   "metadata": {},
   "source": [
    "## Capacity"
   ]
  },
  {
   "cell_type": "code",
   "execution_count": 14,
   "id": "4ed43382",
   "metadata": {},
   "outputs": [],
   "source": [
    "sheet = \"03 installierte Leistung\""
   ]
  },
  {
   "cell_type": "code",
   "execution_count": 15,
   "id": "d03b4765",
   "metadata": {},
   "outputs": [
    {
     "name": "stdout",
     "output_type": "stream",
     "text": [
      "Extracting data for scenario ZERO-Basis\n",
      "Extracting data for scenario ZERO-A\n",
      "Extracting data for scenario ZERO-B\n",
      "Extracting data for scenario ZERO-C\n",
      "Extracting data for scenario WWB\n",
      "Extracting data for scenario ZERO-Basis\n",
      "Extracting data for scenario ZERO-A\n",
      "Extracting data for scenario ZERO-B\n",
      "Extracting data for scenario ZERO-C\n",
      "Extracting data for scenario WWB\n"
     ]
    }
   ],
   "source": [
    "start, end = \"B11\", \"BL25\"\n",
    "out_name = \"03-01-capacity_by_technology\"\n",
    "# generation by technology\n",
    "df = pd.concat(\n",
    "    [\n",
    "        extract_data_all_scenarios(\n",
    "            sheet_name=sheet,\n",
    "            fn_excel=fn_excel_transform_50,\n",
    "            start_cell=start,\n",
    "            end_cell=end,\n",
    "            name_index=[\"technology\"],\n",
    "        ).assign(variant=\"KKW50\"),\n",
    "        extract_data_all_scenarios(\n",
    "            sheet_name=sheet,\n",
    "            fn_excel=fn_excel_transform_60,\n",
    "            start_cell=start,\n",
    "            end_cell=end,\n",
    "            name_index=\"technology\",\n",
    "        ).assign(variant=\"KKW60\"),\n",
    "    ]\n",
    ").assign(\n",
    "    unit=\"GW\",\n",
    "    technology=lambda df: df[\"technology\"].str.replace(\"*\", \"\")\n",
    ")\n",
    "fn_out = f\"{dir_out}{out_name}.csv\"\n",
    "df.to_csv(fn_out, index=False)"
   ]
  },
  {
   "cell_type": "code",
   "execution_count": 16,
   "id": "df21c5a2",
   "metadata": {},
   "outputs": [
    {
     "name": "stdout",
     "output_type": "stream",
     "text": [
      "Extracting data for scenario ZERO-Basis\n",
      "Extracting data for scenario ZERO-A\n",
      "Extracting data for scenario ZERO-B\n",
      "Extracting data for scenario ZERO-C\n",
      "Extracting data for scenario WWB\n",
      "Extracting data for scenario ZERO-Basis\n",
      "Extracting data for scenario ZERO-A\n",
      "Extracting data for scenario ZERO-B\n",
      "Extracting data for scenario ZERO-C\n",
      "Extracting data for scenario WWB\n"
     ]
    }
   ],
   "source": [
    "start, end = \"B31\", \"BL41\"\n",
    "out_name = \"03-02-capacity_by_renewable_technology\"\n",
    "# generation by technology\n",
    "df = pd.concat(\n",
    "    [\n",
    "        extract_data_all_scenarios(\n",
    "            sheet_name=sheet,\n",
    "            fn_excel=fn_excel_transform_50,\n",
    "            start_cell=start,\n",
    "            end_cell=end,\n",
    "            name_index=[\"technology\"],\n",
    "        ).assign(variant=\"KKW50\"),\n",
    "        extract_data_all_scenarios(\n",
    "            sheet_name=sheet,\n",
    "            fn_excel=fn_excel_transform_60,\n",
    "            start_cell=start,\n",
    "            end_cell=end,\n",
    "            name_index=\"technology\",\n",
    "        ).assign(variant=\"KKW60\"),\n",
    "    ]\n",
    ").assign(\n",
    "    unit=\"GW\",\n",
    "    technology=lambda df: df[\"technology\"].str.replace(\"*\", \"\")\n",
    ")\n",
    "fn_out = f\"{dir_out}{out_name}.csv\"\n",
    "df.to_csv(fn_out, index=False)"
   ]
  },
  {
   "cell_type": "markdown",
   "id": "43049f82",
   "metadata": {},
   "source": [
    "## Electricity prices"
   ]
  },
  {
   "cell_type": "code",
   "execution_count": 17,
   "id": "b11eff60",
   "metadata": {},
   "outputs": [],
   "source": [
    "sheet = \"06 Strompreise\""
   ]
  },
  {
   "cell_type": "code",
   "execution_count": 18,
   "id": "5b50ac98",
   "metadata": {},
   "outputs": [
    {
     "name": "stdout",
     "output_type": "stream",
     "text": [
      "Extracting data for scenario ZERO-Basis\n",
      "Extracting data for scenario ZERO-A\n",
      "Extracting data for scenario ZERO-B\n",
      "Extracting data for scenario ZERO-C\n",
      "Extracting data for scenario WWB\n",
      "Extracting data for scenario ZERO-Basis\n",
      "Extracting data for scenario ZERO-A\n",
      "Extracting data for scenario ZERO-B\n",
      "Extracting data for scenario ZERO-C\n",
      "Extracting data for scenario WWB\n"
     ]
    }
   ],
   "source": [
    "start, end = \"B11\", \"BL16\"\n",
    "out_name = \"06-01-electricity_prices\"\n",
    "# generation by technology\n",
    "df = pd.concat(\n",
    "    [\n",
    "        extract_data_all_scenarios(\n",
    "            sheet_name=sheet,\n",
    "            fn_excel=fn_excel_transform_50,\n",
    "            start_cell=start,\n",
    "            end_cell=end,\n",
    "            name_index=\"country\",\n",
    "        ).assign(variant=\"KKW50\"),\n",
    "        extract_data_all_scenarios(\n",
    "            sheet_name=sheet,\n",
    "            fn_excel=fn_excel_transform_60,\n",
    "            start_cell=start,\n",
    "            end_cell=end,\n",
    "            name_index=\"country\",\n",
    "        ).assign(variant=\"KKW60\"),\n",
    "    ]\n",
    ").assign(unit=\"CHF/MWh\")\n",
    "fn_out = f\"{dir_out}{out_name}.csv\"\n",
    "df.to_csv(fn_out, index=False)"
   ]
  },
  {
   "cell_type": "markdown",
   "id": "67bf4c74",
   "metadata": {},
   "source": [
    "## Demand"
   ]
  },
  {
   "cell_type": "code",
   "execution_count": 19,
   "id": "76b7f652",
   "metadata": {},
   "outputs": [],
   "source": [
    "sheet = \"01 Stromverbrauch\""
   ]
  },
  {
   "cell_type": "code",
   "execution_count": 20,
   "id": "7d4d3ba5",
   "metadata": {},
   "outputs": [
    {
     "name": "stdout",
     "output_type": "stream",
     "text": [
      "Extracting data for scenario ZERO-Basis\n",
      "Extracting data for scenario ZERO-A\n",
      "Extracting data for scenario ZERO-B\n",
      "Extracting data for scenario ZERO-C\n",
      "Extracting data for scenario WWB\n",
      "Extracting data for scenario ZERO-Basis\n",
      "Extracting data for scenario ZERO-A\n",
      "Extracting data for scenario ZERO-B\n",
      "Extracting data for scenario ZERO-C\n",
      "Extracting data for scenario WWB\n"
     ]
    }
   ],
   "source": [
    "start, end = \"B11\", \"BL25\"\n",
    "out_name = \"01-01-electricity_consumption\"\n",
    "# generation by technology\n",
    "df = pd.concat(\n",
    "    [\n",
    "        extract_data_all_scenarios(\n",
    "            sheet_name=sheet,\n",
    "            fn_excel=fn_excel_transform_50,\n",
    "            start_cell=start,\n",
    "            end_cell=end,\n",
    "            name_index=\"sector\",\n",
    "        ).assign(variant=\"KKW50\"),\n",
    "        extract_data_all_scenarios(\n",
    "            sheet_name=sheet,\n",
    "            fn_excel=fn_excel_transform_60,\n",
    "            start_cell=start,\n",
    "            end_cell=end,\n",
    "            name_index=\"sector\",\n",
    "        ).assign(variant=\"KKW60\"),\n",
    "    ]\n",
    ").assign(\n",
    "    unit=\"TWh\",\n",
    "    sector=lambda df: df[\"sector\"].str.replace(\"*\", \"\")\n",
    ")\n",
    "fn_out = f\"{dir_out}{out_name}.csv\"\n",
    "df.to_csv(fn_out, index=False)"
   ]
  },
  {
   "cell_type": "markdown",
   "id": "11ad9a65",
   "metadata": {},
   "source": [
    "## Heat"
   ]
  },
  {
   "cell_type": "code",
   "execution_count": 21,
   "id": "20cb3736",
   "metadata": {},
   "outputs": [],
   "source": [
    "sheet = \"07 Wärmeerzeugung\""
   ]
  },
  {
   "cell_type": "code",
   "execution_count": 22,
   "id": "ec593dd1",
   "metadata": {},
   "outputs": [
    {
     "name": "stdout",
     "output_type": "stream",
     "text": [
      "Extracting data for scenario ZERO-Basis\n",
      "Extracting data for scenario ZERO-A\n",
      "Extracting data for scenario ZERO-B\n",
      "Extracting data for scenario ZERO-C\n",
      "Extracting data for scenario WWB\n",
      "Extracting data for scenario ZERO-Basis\n",
      "Extracting data for scenario ZERO-A\n",
      "Extracting data for scenario ZERO-B\n",
      "Extracting data for scenario ZERO-C\n",
      "Extracting data for scenario WWB\n"
     ]
    }
   ],
   "source": [
    "start, end = \"B11\", \"BL28\"\n",
    "out_name = \"07-01-district_heating\"\n",
    "df = pd.concat(\n",
    "    [\n",
    "        extract_data_all_scenarios(\n",
    "            sheet_name=sheet,\n",
    "            fn_excel=fn_excel_transform_50,\n",
    "            start_cell=start,\n",
    "            end_cell=end,\n",
    "            name_index=\"technology\",\n",
    "        ).assign(variant=\"KKW50\"),\n",
    "        extract_data_all_scenarios(\n",
    "            sheet_name=sheet,\n",
    "            fn_excel=fn_excel_transform_60,\n",
    "            start_cell=start,\n",
    "            end_cell=end,\n",
    "            name_index=\"technology\",\n",
    "        ).assign(variant=\"KKW60\"),\n",
    "    ]\n",
    ").assign(\n",
    "    unit=\"TWh\",\n",
    "    technology=lambda df: df[\"technology\"].str.replace(\"*\", \"\")\n",
    ")\n",
    "fn_out = f\"{dir_out}{out_name}.csv\"\n",
    "df.to_csv(fn_out, index=False)"
   ]
  },
  {
   "cell_type": "markdown",
   "id": "5e9c2921",
   "metadata": {},
   "source": [
    "## Power-to-X"
   ]
  },
  {
   "cell_type": "code",
   "execution_count": 23,
   "id": "e0998679",
   "metadata": {},
   "outputs": [],
   "source": [
    "sheet = \"08 PtX\""
   ]
  },
  {
   "cell_type": "code",
   "execution_count": 24,
   "id": "1b218950",
   "metadata": {},
   "outputs": [
    {
     "name": "stdout",
     "output_type": "stream",
     "text": [
      "Extracting data for scenario ZERO-Basis\n",
      "Extracting data for scenario ZERO-A\n",
      "Extracting data for scenario ZERO-B\n",
      "Extracting data for scenario ZERO-C\n",
      "Extracting data for scenario WWB\n",
      "Extracting data for scenario ZERO-Basis\n",
      "Extracting data for scenario ZERO-A\n",
      "Extracting data for scenario ZERO-B\n",
      "Extracting data for scenario ZERO-C\n",
      "Extracting data for scenario WWB\n"
     ]
    }
   ],
   "source": [
    "start, end = \"B11\", \"AR15\"\n",
    "out_name = \"08-01-power_to_x\"\n",
    "df = pd.concat(\n",
    "    [\n",
    "        extract_data_all_scenarios(\n",
    "            sheet_name=sheet,\n",
    "            fn_excel=fn_excel_transform_50,\n",
    "            start_cell=start,\n",
    "            end_cell=end,\n",
    "            name_index=[\"variable\", \"unit\"],\n",
    "        ).assign(variant=\"KKW50\"),\n",
    "        extract_data_all_scenarios(\n",
    "            sheet_name=sheet,\n",
    "            fn_excel=fn_excel_transform_60,\n",
    "            start_cell=start,\n",
    "            end_cell=end,\n",
    "            name_index=[\"variable\", \"unit\"],\n",
    "        ).assign(variant=\"KKW60\"),\n",
    "    ]\n",
    ").assign(variable=lambda df: df[\"variable\"].str.replace(\"*\", \"\"))\n",
    "fn_out = f\"{dir_out}{out_name}.csv\"\n",
    "df.to_csv(fn_out, index=False)"
   ]
  },
  {
   "cell_type": "code",
   "execution_count": null,
   "id": "850b135c",
   "metadata": {},
   "outputs": [],
   "source": []
  },
  {
   "cell_type": "code",
   "execution_count": null,
   "id": "e8a41064",
   "metadata": {},
   "outputs": [],
   "source": []
  }
 ],
 "metadata": {
  "kernelspec": {
   "display_name": "Python 3 (ipykernel)",
   "language": "python",
   "name": "python3"
  },
  "language_info": {
   "codemirror_mode": {
    "name": "ipython",
    "version": 3
   },
   "file_extension": ".py",
   "mimetype": "text/x-python",
   "name": "python",
   "nbconvert_exporter": "python",
   "pygments_lexer": "ipython3",
   "version": "3.12.11"
  }
 },
 "nbformat": 4,
 "nbformat_minor": 5
}
